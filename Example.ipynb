{
 "cells": [
  {
   "cell_type": "code",
   "execution_count": null,
   "id": "f149477a",
   "metadata": {},
   "outputs": [],
   "source": [
    "import os \n",
    "import scanpy as sc\n",
    "\n",
    "from ghostcoder.Agent import GhostCoder\n",
    "from ghostcoder.graph import create_ghostcoder_agent, create_coder_agent, create_crawler_agent, create_rag_agent"
   ]
  },
  {
   "cell_type": "code",
   "execution_count": null,
   "id": "e0134c90",
   "metadata": {},
   "outputs": [],
   "source": [
    "# Tnitial LLM\n",
    "openai_api_key = \"\"\n",
    "openai_api_base = \"\"\n",
    "openai_chat_model = \"\"\n",
    "openai_code_model = \"\"\n",
    "\n",
    "def call_chatllm_openai(api_key, api_base, model_name):\n",
    "    llm = ChatOpenAI(\n",
    "        openai_api_key = api_key,\n",
    "        openai_api_base=api_base,\n",
    "        model = model_name)\n",
    "    return llm\n",
    "\n",
    "chat_model = call_chatllm_openai(openai_api_key, openai_api_base, openai_chat_model)\n",
    "code_model = call_chatllm_openai(openai_api_key, openai_api_base, openai_code_model)"
   ]
  },
  {
   "cell_type": "code",
   "execution_count": null,
   "id": "341b57c0",
   "metadata": {},
   "outputs": [],
   "source": [
    "# Initial Tavily\n",
    "tavily_api = \"\"\n",
    "os.environ[\"TAVILY_API_KEY\"] = tavily_api"
   ]
  },
  {
   "cell_type": "code",
   "execution_count": null,
   "id": "836d652d",
   "metadata": {},
   "outputs": [],
   "source": [
    "# Data \n",
    "adata = sc.datasets.pbmc3k()"
   ]
  },
  {
   "cell_type": "code",
   "execution_count": null,
   "id": "0a4c5871",
   "metadata": {},
   "outputs": [],
   "source": [
    "# Initial graph\n",
    "agent = GhostCoder(\n",
    "    chat_model = chat_model, \n",
    "    code_model = code_model, \n",
    "    )\n",
    "\n",
    "# Draw graph\n",
    "agent.draw_graph()"
   ]
  },
  {
   "cell_type": "code",
   "execution_count": null,
   "id": "8a915b72",
   "metadata": {},
   "outputs": [],
   "source": [
    "# Test agent\n",
    "task = \"Quality control of the data. wherein the genes are targeted for labeling, the mitochondrial genes (e.g., beginning with “MT-”), the ribosomal genes (e.g., beginning with “RPS” or “RPL”), and the hemoglobin genes (using regular expression matching, e.g., ^HB[^P]); next, common quality control metrics for each cell, including total counts, number of genes detected, and the proportion of total counts represented by a specific group of genes (e.g., mitochondrial genes), were calculated using Scanpy's calculate_qc_metrics() function, and a The log1p transformation is applied to these metrics to optimize the data distribution. Subsequently, the QC metrics of each cell are visualized by violin plots and scatter plots to assess the overall quality of the data. Finally, a threshold is set based on the visualization results to exclude the cells with fewer than 100 genes and genes occurring in fewer than 3 cells to ensure the quality of the data for downstream analyses.\""
   ]
  },
  {
   "cell_type": "code",
   "execution_count": null,
   "id": "6c3cd5fc",
   "metadata": {},
   "outputs": [],
   "source": [
    "# Run Ghost coder\n",
    "agent.Run(task, input_vars = [adata])"
   ]
  }
 ],
 "metadata": {
  "kernelspec": {
   "display_name": "BIA-dev",
   "language": "python",
   "name": "python3"
  },
  "language_info": {
   "codemirror_mode": {
    "name": "ipython",
    "version": 3
   },
   "file_extension": ".py",
   "mimetype": "text/x-python",
   "name": "python",
   "nbconvert_exporter": "python",
   "pygments_lexer": "ipython3",
   "version": "3.11.8"
  }
 },
 "nbformat": 4,
 "nbformat_minor": 5
}
