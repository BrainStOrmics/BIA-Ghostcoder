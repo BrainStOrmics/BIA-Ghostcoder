{
 "cells": [
  {
   "cell_type": "code",
   "execution_count": 2,
   "id": "f149477a",
   "metadata": {},
   "outputs": [],
   "source": [
    "import os \n",
    "import sys\n",
    "from pathlib import Path # To set data downloading path\n",
    "\n",
    "# Append ghostcoder folder to path \n",
    "sys.path.append(os.path.abspath('..'))\n",
    "import ghostcoder\n",
    "\n",
    "# For visualize the graph\n",
    "from IPython.display import Image, display"
   ]
  },
  {
   "cell_type": "markdown",
   "id": "89124644",
   "metadata": {},
   "source": [
    "Here we will test and illustrate each subgraph in Ghostcoder, as an important component of BIA (bioinformatics agnet), mainly functions to complete the generation and execution of bioinformatics analysis codes. It contains five subgraphs. They are filemanager, retriever, coder and webcrawler executor respectively.\n"
   ]
  },
  {
   "cell_type": "markdown",
   "id": "a6bb5572",
   "metadata": {},
   "source": [
    "### Set up LLMs"
   ]
  },
  {
   "cell_type": "code",
   "execution_count": 4,
   "id": "b1fb6395",
   "metadata": {},
   "outputs": [],
   "source": [
    "# Use Openai API for example, you can use other LLM provider as well\n",
    "from langchain_openai import ChatOpenAI\n",
    "\n",
    "# I will recommend use Openai API, I haven't tested any APIs from other suppliers yet\n",
    "def call_chatllm_openai(key, api_base, model_name):\n",
    "    llm = ChatOpenAI(\n",
    "        api_key = key,\n",
    "        base_url= api_base,\n",
    "        model = model_name,\n",
    "        temperature= 0,\n",
    "        max_retries = 3,\n",
    "        )\n",
    "    return llm\n",
    "\n",
    "# # Setup up api keys \n",
    "# openai_key = \"\"\n",
    "# openai_base = \"\"\n",
    "# openai_chat_model = \"\" \n",
    "# openai_code_model = \"\"\n",
    "\n",
    "# Here, I recommend using an LLM with stronger coding capabilities as the code model, which is set to perform code-related work in all Ghostcoder graphs. Meanwhile, it is better to use LLM with stronger reasoning ability as the chat model.\n",
    "chat_model = call_chatllm_openai(openai_key, openai_base, openai_chat_model)\n",
    "code_model = call_chatllm_openai(openai_key, openai_base, openai_code_model)"
   ]
  },
  {
   "cell_type": "code",
   "execution_count": 6,
   "id": "6dfbe4a9",
   "metadata": {},
   "outputs": [
    {
     "name": "stdout",
     "output_type": "stream",
     "text": [
      "Bioinformatics is an interdisciplinary field that combines biology, computer science, mathematics, and statistics to analyze and interpret biological data. It leverages computational tools and techniques to manage, process, and extract meaningful insights from large-scale biological datasets, such as genomic sequences, protein structures, and metabolic pathways. Here's a structured overview:\n",
      "\n",
      "### **Key Components**\n",
      "1. **Data Management**:  \n",
      "   - Develops databases (e.g., GenBank, PDB) to store biological information like DNA sequences, protein structures, and gene expression data.\n",
      "   - Ensures efficient retrieval and integration of diverse data types (genomic, proteomic, transcriptomic).\n",
      "\n",
      "2. **Data Analysis**:  \n",
      "   - Uses algorithms and statistical methods to identify patterns (e.g., gene mutations linked to diseases).\n",
      "   - Tools like BLAST for sequence alignment, or machine learning models for predicting protein functions.\n",
      "\n",
      "3. **Applications**:  \n",
      "   - **Genomics**: Genome assembly, annotation, and comparative genomics (e.g., Human Genome Project).  \n",
      "   - **Proteomics**: Predicting protein structures (AlphaFold) and interactions.  \n",
      "   - **Phylogenetics**: Reconstructing evolutionary relationships using genetic data.  \n",
      "   - **Medicine**: Personalized medicine, cancer genomics, drug discovery (e.g., targeting SARS-CoV-2 proteins).  \n",
      "   - **Agriculture**: Engineering crops for resilience or yield improvement.\n",
      "\n",
      "4. **Tools & Technologies**:  \n",
      "   - Programming languages: Python, R, Perl.  \n",
      "   - Frameworks: Bioconductor, BioPython.  \n",
      "   - Visualization tools: Cytoscape, PyMOL.  \n",
      "\n",
      "### **Distinction from Computational Biology**  \n",
      "While overlapping, **bioinformatics** often focuses on data-driven approaches (handling raw data), whereas **computational biology** emphasizes theoretical modeling (e.g., simulating cellular processes).\n",
      "\n",
      "### **Challenges**  \n",
      "- Managing \"big data\" from high-throughput technologies (e.g., next-gen sequencing).  \n",
      "- Ensuring algorithm efficiency and accuracy.  \n",
      "- Bridging interdisciplinary gaps between biologists and computational experts.  \n",
      "\n",
      "### **Impact**  \n",
      "- Enabled breakthroughs like CRISPR design, COVID-19 variant tracking, and cancer biomarker discovery.  \n",
      "- Critical for advancing precision medicine, synthetic biology, and evolutionary studies.  \n",
      "\n",
      "In essence, bioinformatics transforms raw biological data into actionable knowledge, driving innovation across life sciences and healthcare.\n"
     ]
    }
   ],
   "source": [
    "# Test LLM\n",
    "response = chat_model.invoke(\"What is bioinformatics\")\n",
    "print(response.content)"
   ]
  },
  {
   "cell_type": "code",
   "execution_count": null,
   "id": "c96fe9ee",
   "metadata": {},
   "outputs": [],
   "source": []
  },
  {
   "cell_type": "markdown",
   "id": "a94247d2",
   "metadata": {},
   "source": [
    "### Omics data preparation"
   ]
  },
  {
   "cell_type": "code",
   "execution_count": null,
   "id": "50561849",
   "metadata": {},
   "outputs": [],
   "source": [
    "# Please change your dir to Ghostcoder/Test\n",
    "os.chdir('Test')"
   ]
  },
  {
   "cell_type": "code",
   "execution_count": null,
   "id": "c8466b47",
   "metadata": {},
   "outputs": [],
   "source": [
    "#──────work_dir \n",
    "#  └───data\n",
    "#    └─Input_data.whatever\n",
    "# First lets download a scRNAseq data\n",
    "import scanpy as sc\n",
    "\n",
    "from ghostcoder.config import file_config\n",
    "\n",
    "current_dir = Path.cwd()\n",
    "os.makedirs(file_config.DATA_DIR, exist_ok=True)\n",
    "\n",
    "# Ghostcoder pre-set WORK_DIR and INPUT_DATA_DIR for continues bioinformatics tasks using one input data\n",
    "\n",
    "# Download scRNAseq data\n",
    "sc.settings.datasetdir = current_dir/ file_config.INPUT_DATA_DIR # Download data into data/ folder in current dir\n",
    "sc.datasets.pbmc3k()\n",
    "\n",
    "# Create a data description file to illustrate the scRNAseq data details \n",
    "data_des = \"The data used in this basic preprocessing and clustering tutorial was collected from bone marrow mononuclear cells of healthy human donors. The samples used in this tutorial were measured using the 10X Multiome Gene Expression and Chromatin Accessability kit.\"\n",
    "\n",
    "with open('data/data_description.txt','w') as f:\n",
    "    f.write(data_des)\n",
    "    \n",
    "# Set workdir as current dir\n",
    "file_config.WORK_DIR = current_dir"
   ]
  },
  {
   "cell_type": "markdown",
   "id": "28add431",
   "metadata": {},
   "source": [
    "### Set up Tavily search"
   ]
  },
  {
   "cell_type": "code",
   "execution_count": null,
   "id": "8f7aaf2b",
   "metadata": {},
   "outputs": [],
   "source": [
    "from ghostcoder.config import tavily_config\n",
    "# Initial Tavily\n",
    "# Currently, all web search functional is based on Tavily search, it's provide 10000 query/month free credit, more see https://app.tavily.com/home\n",
    "tavily_api = \"\"\n",
    "\n",
    "# You can set up Tavily by os environ\n",
    "# os.environ[\"TAVILY_API_KEY\"] = tavily_api\n",
    "# or with config, which work inside Ghostcoder only\n",
    "tavily_config.TAVILY_API_KEY = tavily_api\n",
    "\n",
    "# Set up max results of each Tavily query\n",
    "tavily_config.MAX_RESULTS = 7"
   ]
  },
  {
   "cell_type": "markdown",
   "id": "11c746e6",
   "metadata": {},
   "source": [
    "### Run GhostCoder"
   ]
  },
  {
   "cell_type": "code",
   "execution_count": 5,
   "id": "d4b71ea6",
   "metadata": {},
   "outputs": [],
   "source": [
    "# Please change your dir to Ghostcoder/Test\n",
    "os.chdir('Test')"
   ]
  },
  {
   "cell_type": "code",
   "execution_count": 6,
   "id": "60565987",
   "metadata": {},
   "outputs": [
    {
     "name": "stdout",
     "output_type": "stream",
     "text": [
      "Code executed with output:\n",
      "Error loading pbmc3k_raw.h5ad: [Errno 2] Unable to synchronously open file (unable to open file: name = 'pbmc3k_raw.h5ad', errno = 2, error message = 'No such file or directory', flags = 0, o_flags = 0)\n",
      "Error processing pbmc3k_raw.h5ad: name 'adata' is not defined\n",
      "Error reading data_description.txt: [Errno 2] No such file or directory: 'data_description.txt'\n",
      "Error writing summary to file: name 'expression_matrix_shape' is not defined\n",
      "Error generating plot: name 'adata' is not defined\n",
      "\n",
      "\n",
      "Fixing error code.\n",
      "Code executed with output:\n",
      "File: pbmc3k_raw.h5ad\n",
      "Format: .h5ad\n",
      "Selected Language: Python with anndata/scanpy\n",
      "Expression Matrix Shape: (2700, 32738)\n",
      "Keys in obs: []\n",
      "Keys in var: ['gene_ids']\n",
      "\n",
      "File: data_description.txt\n",
      "Format: .txt\n",
      "Content:\n",
      " **This file is used to provide addtionnal description for given data files**\n",
      "\n",
      "pbmc3k_raw.h5ad: The data used in this basic preprocessing and clustering tutorial was collected from bone marrow mononuclear cells of healthy human donors. The samples used in this tutorial were measured using the 10X Multiome Gene Expression and Chromatin Accessability kit.\n",
      "\n",
      "\n",
      "Code executed with output:\n",
      "Traceback (most recent call last):\n",
      "  File \"/home/qixin/BIA-Ghostcoder/Test/test_01/tmp_code_265535b4b27d651e9fddf1609497c59fbd8f0956f0a1cc3824faf4c202760c98.py\", line 29, in <module>\n",
      "    expression_matrix_shape = adata.X.shape\n",
      "                              ^^^^^\n",
      "NameError: name 'adata' is not defined\n",
      "Error loading .h5ad file: [Errno 2] Unable to synchronously open file (unable to open file: name = '/path/to/input/data/pbmc3k_raw.h5ad', errno = 2, error message = 'No such file or directory', flags = 0, o_flags = 0)\n",
      "Error loading .txt file: [Errno 2] No such file or directory: '/path/to/input/data/data_description.txt'\n",
      "\n",
      "\n",
      "Fixing error code.\n",
      "Code executed with output:\n",
      "Traceback (most recent call last):\n",
      "  File \"/home/qixin/BIA-Ghostcoder/Test/test_01/tmp_code_8a68e77012c5695d2b4c5b95002d8b82073405e3e46cf0e786db995554b316ad.py\", line 44, in <module>\n",
      "    assert 'n_genes_by_counts' in adata.obs, \"Expected 'n_genes_by_counts' in obs\"\n",
      "           ^^^^^^^^^^^^^^^^^^^^^^^^^^^^^^^^\n",
      "AssertionError: Expected 'n_genes_by_counts' in obs\n",
      "File: pbmc3k_raw.h5ad (format: .h5ad)\n",
      "Selected Language: Python (using anndata/scanpy for .h5ad compatibility)\n",
      "Expression Matrix Shape: (2700, 32738)\n",
      "Keys in obs: []\n",
      "Keys in var: ['gene_ids']\n",
      "\n",
      "\n",
      "Fixing error code.\n",
      "Attempt 1 failed: unstructured package not found, please install it with `pip install unstructured`\n",
      "Attempt 2 failed: unstructured package not found, please install it with `pip install unstructured`\n",
      "Attempt 3 failed: unstructured package not found, please install it with `pip install unstructured`\n",
      "All attempts failed. Returning empty string.\n",
      "Attempt 1 failed: unstructured package not found, please install it with `pip install unstructured`\n",
      "Attempt 2 failed: unstructured package not found, please install it with `pip install unstructured`\n",
      "Attempt 3 failed: unstructured package not found, please install it with `pip install unstructured`\n",
      "All attempts failed. Returning empty string.\n",
      "Attempt 1 failed: unstructured package not found, please install it with `pip install unstructured`\n",
      "Attempt 2 failed: unstructured package not found, please install it with `pip install unstructured`\n",
      "Attempt 3 failed: unstructured package not found, please install it with `pip install unstructured`\n",
      "All attempts failed. Returning empty string.\n",
      "Attempt 1 failed: unstructured package not found, please install it with `pip install unstructured`\n",
      "Attempt 2 failed: unstructured package not found, please install it with `pip install unstructured`\n",
      "Attempt 3 failed: unstructured package not found, please install it with `pip install unstructured`\n",
      "All attempts failed. Returning empty string.\n",
      "Attempt 1 failed: unstructured package not found, please install it with `pip install unstructured`\n",
      "Attempt 2 failed: unstructured package not found, please install it with `pip install unstructured`\n",
      "Attempt 3 failed: unstructured package not found, please install it with `pip install unstructured`\n",
      "All attempts failed. Returning empty string.\n"
     ]
    },
    {
     "name": "stderr",
     "output_type": "stream",
     "text": [
      "INFO: HTTP Request: POST https://api3.aitok.ai/openai/v1/chat/completions \"HTTP/1.1 200 OK\"\n",
      "INFO: HTTP Request: POST https://api3.aitok.ai/openai/v1/chat/completions \"HTTP/1.1 200 OK\"\n",
      "INFO: HTTP Request: POST https://api3.aitok.ai/openai/v1/chat/completions \"HTTP/1.1 200 OK\"\n",
      "INFO: HTTP Request: POST https://api3.aitok.ai/openai/v1/chat/completions \"HTTP/1.1 200 OK\"\n"
     ]
    },
    {
     "name": "stdout",
     "output_type": "stream",
     "text": [
      "Code executed with output:\n",
      "Traceback (most recent call last):\n",
      "  File \"/home/qixin/BIA-Ghostcoder/.venv/lib/python3.12/site-packages/pandas/core/indexes/base.py\", line 3805, in get_loc\n",
      "    return self._engine.get_loc(casted_key)\n",
      "           ^^^^^^^^^^^^^^^^^^^^^^^^^^^^^^^^\n",
      "  File \"index.pyx\", line 167, in pandas._libs.index.IndexEngine.get_loc\n",
      "  File \"index.pyx\", line 196, in pandas._libs.index.IndexEngine.get_loc\n",
      "  File \"pandas/_libs/hashtable_class_helper.pxi\", line 7081, in pandas._libs.hashtable.PyObjectHashTable.get_item\n",
      "  File \"pandas/_libs/hashtable_class_helper.pxi\", line 7089, in pandas._libs.hashtable.PyObjectHashTable.get_item\n",
      "KeyError: 'mt'\n",
      "\n",
      "The above exception was the direct cause of the following exception:\n",
      "\n",
      "Traceback (most recent call last):\n",
      "  File \"/home/qixin/BIA-Ghostcoder/Test/test_01/tmp_code_5e6ce212661b36169d8309d17a623b59b12787996dd7fb6dd355a231b127ca69.py\", line 18, in <module>\n",
      "    sc.pp.calculate_qc_metrics(adata, qc_vars=['mt'], inplace=True)\n",
      "  File \"/home/qixin/BIA-Ghostcoder/.venv/lib/python3.12/site-packages/scanpy/preprocessing/_qc.py\", line 311, in calculate_qc_metrics\n",
      "    obs_metrics = describe_obs(\n",
      "                  ^^^^^^^^^^^^^\n",
      "  File \"/home/qixin/BIA-Ghostcoder/.venv/lib/python3.12/site-packages/scanpy/preprocessing/_qc.py\", line 132, in describe_obs\n",
      "    axis_sum(X[:, adata.var[qc_var].values], axis=1)\n",
      "                  ~~~~~~~~~^^^^^^^^\n",
      "  File \"/home/qixin/BIA-Ghostcoder/.venv/lib/python3.12/site-packages/pandas/core/frame.py\", line 4102, in __getitem__\n",
      "    indexer = self.columns.get_loc(key)\n",
      "              ^^^^^^^^^^^^^^^^^^^^^^^^^\n",
      "  File \"/home/qixin/BIA-Ghostcoder/.venv/lib/python3.12/site-packages/pandas/core/indexes/base.py\", line 3812, in get_loc\n",
      "    raise KeyError(key) from err\n",
      "KeyError: 'mt'\n",
      "\n",
      "\n"
     ]
    },
    {
     "name": "stderr",
     "output_type": "stream",
     "text": [
      "INFO: HTTP Request: POST https://api3.aitok.ai/openai/v1/chat/completions \"HTTP/1.1 200 OK\"\n"
     ]
    },
    {
     "name": "stdout",
     "output_type": "stream",
     "text": [
      "Fixing error code.\n"
     ]
    },
    {
     "name": "stderr",
     "output_type": "stream",
     "text": [
      "INFO: HTTP Request: POST https://api3.aitok.ai/openai/v1/chat/completions \"HTTP/1.1 200 OK\"\n",
      "INFO: HTTP Request: POST https://api3.aitok.ai/openai/v1/chat/completions \"HTTP/1.1 200 OK\"\n",
      "INFO: HTTP Request: POST https://api3.aitok.ai/openai/v1/chat/completions \"HTTP/1.1 200 OK\"\n",
      "INFO: HTTP Request: POST https://api3.aitok.ai/openai/v1/chat/completions \"HTTP/1.1 200 OK\"\n",
      "INFO: HTTP Request: POST https://api3.aitok.ai/openai/v1/chat/completions \"HTTP/1.1 200 OK\"\n"
     ]
    },
    {
     "name": "stdout",
     "output_type": "stream",
     "text": [
      "Code executed with output:\n",
      "Traceback (most recent call last):\n",
      "  File \"/home/qixin/BIA-Ghostcoder/.venv/lib/python3.12/site-packages/pandas/core/indexes/base.py\", line 3805, in get_loc\n",
      "    return self._engine.get_loc(casted_key)\n",
      "           ^^^^^^^^^^^^^^^^^^^^^^^^^^^^^^^^\n",
      "  File \"index.pyx\", line 167, in pandas._libs.index.IndexEngine.get_loc\n",
      "  File \"index.pyx\", line 196, in pandas._libs.index.IndexEngine.get_loc\n",
      "  File \"pandas/_libs/hashtable_class_helper.pxi\", line 7081, in pandas._libs.hashtable.PyObjectHashTable.get_item\n",
      "  File \"pandas/_libs/hashtable_class_helper.pxi\", line 7089, in pandas._libs.hashtable.PyObjectHashTable.get_item\n",
      "KeyError: 'mt'\n",
      "\n",
      "The above exception was the direct cause of the following exception:\n",
      "\n",
      "Traceback (most recent call last):\n",
      "  File \"/home/qixin/BIA-Ghostcoder/Test/test_01/tmp_code_731182c3961279d7fda45e44993f044171fddf855690388751dfc0c40697bee4.py\", line 18, in <module>\n",
      "    sc.pp.calculate_qc_metrics(adata, qc_vars=['mt'], inplace=True)\n",
      "  File \"/home/qixin/BIA-Ghostcoder/.venv/lib/python3.12/site-packages/scanpy/preprocessing/_qc.py\", line 311, in calculate_qc_metrics\n",
      "    obs_metrics = describe_obs(\n",
      "                  ^^^^^^^^^^^^^\n",
      "  File \"/home/qixin/BIA-Ghostcoder/.venv/lib/python3.12/site-packages/scanpy/preprocessing/_qc.py\", line 132, in describe_obs\n",
      "    axis_sum(X[:, adata.var[qc_var].values], axis=1)\n",
      "                  ~~~~~~~~~^^^^^^^^\n",
      "  File \"/home/qixin/BIA-Ghostcoder/.venv/lib/python3.12/site-packages/pandas/core/frame.py\", line 4102, in __getitem__\n",
      "    indexer = self.columns.get_loc(key)\n",
      "              ^^^^^^^^^^^^^^^^^^^^^^^^^\n",
      "  File \"/home/qixin/BIA-Ghostcoder/.venv/lib/python3.12/site-packages/pandas/core/indexes/base.py\", line 3812, in get_loc\n",
      "    raise KeyError(key) from err\n",
      "KeyError: 'mt'\n",
      "\n",
      "\n"
     ]
    },
    {
     "name": "stderr",
     "output_type": "stream",
     "text": [
      "INFO: HTTP Request: POST https://api3.aitok.ai/openai/v1/chat/completions \"HTTP/1.1 200 OK\"\n"
     ]
    },
    {
     "name": "stdout",
     "output_type": "stream",
     "text": [
      "Fixing error code.\n"
     ]
    },
    {
     "name": "stderr",
     "output_type": "stream",
     "text": [
      "INFO: HTTP Request: POST https://api3.aitok.ai/openai/v1/chat/completions \"HTTP/1.1 200 OK\"\n",
      "INFO: HTTP Request: POST https://api3.aitok.ai/openai/v1/chat/completions \"HTTP/1.1 200 OK\"\n",
      "INFO: HTTP Request: POST https://api3.aitok.ai/openai/v1/chat/completions \"HTTP/1.1 200 OK\"\n",
      "INFO: HTTP Request: POST https://api3.aitok.ai/openai/v1/chat/completions \"HTTP/1.1 200 OK\"\n",
      "INFO: HTTP Request: POST https://api3.aitok.ai/openai/v1/chat/completions \"HTTP/1.1 200 OK\"\n"
     ]
    },
    {
     "name": "stdout",
     "output_type": "stream",
     "text": [
      "Code executed with output:\n",
      "Traceback (most recent call last):\n",
      "  File \"/home/qixin/BIA-Ghostcoder/.venv/lib/python3.12/site-packages/pandas/core/indexes/base.py\", line 3805, in get_loc\n",
      "    return self._engine.get_loc(casted_key)\n",
      "           ^^^^^^^^^^^^^^^^^^^^^^^^^^^^^^^^\n",
      "  File \"index.pyx\", line 167, in pandas._libs.index.IndexEngine.get_loc\n",
      "  File \"index.pyx\", line 196, in pandas._libs.index.IndexEngine.get_loc\n",
      "  File \"pandas/_libs/hashtable_class_helper.pxi\", line 7081, in pandas._libs.hashtable.PyObjectHashTable.get_item\n",
      "  File \"pandas/_libs/hashtable_class_helper.pxi\", line 7089, in pandas._libs.hashtable.PyObjectHashTable.get_item\n",
      "KeyError: 'mt'\n",
      "\n",
      "The above exception was the direct cause of the following exception:\n",
      "\n",
      "Traceback (most recent call last):\n",
      "  File \"/home/qixin/BIA-Ghostcoder/Test/test_01/tmp_code_220dbb3a4e70d84295f0f8de82ac05ef61d7bcd1b60408bec47bd7cce9a56140.py\", line 18, in <module>\n",
      "    sc.pp.calculate_qc_metrics(adata, qc_vars=['mt'], inplace=True)\n",
      "  File \"/home/qixin/BIA-Ghostcoder/.venv/lib/python3.12/site-packages/scanpy/preprocessing/_qc.py\", line 311, in calculate_qc_metrics\n",
      "    obs_metrics = describe_obs(\n",
      "                  ^^^^^^^^^^^^^\n",
      "  File \"/home/qixin/BIA-Ghostcoder/.venv/lib/python3.12/site-packages/scanpy/preprocessing/_qc.py\", line 132, in describe_obs\n",
      "    axis_sum(X[:, adata.var[qc_var].values], axis=1)\n",
      "                  ~~~~~~~~~^^^^^^^^\n",
      "  File \"/home/qixin/BIA-Ghostcoder/.venv/lib/python3.12/site-packages/pandas/core/frame.py\", line 4102, in __getitem__\n",
      "    indexer = self.columns.get_loc(key)\n",
      "              ^^^^^^^^^^^^^^^^^^^^^^^^^\n",
      "  File \"/home/qixin/BIA-Ghostcoder/.venv/lib/python3.12/site-packages/pandas/core/indexes/base.py\", line 3812, in get_loc\n",
      "    raise KeyError(key) from err\n",
      "KeyError: 'mt'\n",
      "\n",
      "\n"
     ]
    },
    {
     "name": "stderr",
     "output_type": "stream",
     "text": [
      "INFO: HTTP Request: POST https://api3.aitok.ai/openai/v1/chat/completions \"HTTP/1.1 200 OK\"\n"
     ]
    },
    {
     "name": "stdout",
     "output_type": "stream",
     "text": [
      "Fixing error code.\n"
     ]
    },
    {
     "name": "stderr",
     "output_type": "stream",
     "text": [
      "INFO: HTTP Request: POST https://api3.aitok.ai/openai/v1/chat/completions \"HTTP/1.1 200 OK\"\n",
      "INFO: HTTP Request: POST https://api3.aitok.ai/openai/v1/chat/completions \"HTTP/1.1 200 OK\"\n",
      "INFO: HTTP Request: POST https://api3.aitok.ai/openai/v1/chat/completions \"HTTP/1.1 200 OK\"\n",
      "INFO: HTTP Request: POST https://api3.aitok.ai/openai/v1/chat/completions \"HTTP/1.1 200 OK\"\n",
      "INFO: HTTP Request: POST https://api3.aitok.ai/openai/v1/chat/completions \"HTTP/1.1 200 OK\"\n"
     ]
    },
    {
     "name": "stdout",
     "output_type": "stream",
     "text": [
      "Code executed with output:\n",
      "Traceback (most recent call last):\n",
      "  File \"/home/qixin/BIA-Ghostcoder/.venv/lib/python3.12/site-packages/pandas/core/indexes/base.py\", line 3805, in get_loc\n",
      "    return self._engine.get_loc(casted_key)\n",
      "           ^^^^^^^^^^^^^^^^^^^^^^^^^^^^^^^^\n",
      "  File \"index.pyx\", line 167, in pandas._libs.index.IndexEngine.get_loc\n",
      "  File \"index.pyx\", line 196, in pandas._libs.index.IndexEngine.get_loc\n",
      "  File \"pandas/_libs/hashtable_class_helper.pxi\", line 7081, in pandas._libs.hashtable.PyObjectHashTable.get_item\n",
      "  File \"pandas/_libs/hashtable_class_helper.pxi\", line 7089, in pandas._libs.hashtable.PyObjectHashTable.get_item\n",
      "KeyError: 'mt'\n",
      "\n",
      "The above exception was the direct cause of the following exception:\n",
      "\n",
      "Traceback (most recent call last):\n",
      "  File \"/home/qixin/BIA-Ghostcoder/Test/test_01/tmp_code_5180f8bd8ffbc278716c79dc38141715587e39e6e73d2d4b9f34ccc2650aaa77.py\", line 18, in <module>\n",
      "    sc.pp.calculate_qc_metrics(adata, qc_vars=['mt'], inplace=True)\n",
      "  File \"/home/qixin/BIA-Ghostcoder/.venv/lib/python3.12/site-packages/scanpy/preprocessing/_qc.py\", line 311, in calculate_qc_metrics\n",
      "    obs_metrics = describe_obs(\n",
      "                  ^^^^^^^^^^^^^\n",
      "  File \"/home/qixin/BIA-Ghostcoder/.venv/lib/python3.12/site-packages/scanpy/preprocessing/_qc.py\", line 132, in describe_obs\n",
      "    axis_sum(X[:, adata.var[qc_var].values], axis=1)\n",
      "                  ~~~~~~~~~^^^^^^^^\n",
      "  File \"/home/qixin/BIA-Ghostcoder/.venv/lib/python3.12/site-packages/pandas/core/frame.py\", line 4102, in __getitem__\n",
      "    indexer = self.columns.get_loc(key)\n",
      "              ^^^^^^^^^^^^^^^^^^^^^^^^^\n",
      "  File \"/home/qixin/BIA-Ghostcoder/.venv/lib/python3.12/site-packages/pandas/core/indexes/base.py\", line 3812, in get_loc\n",
      "    raise KeyError(key) from err\n",
      "KeyError: 'mt'\n",
      "\n",
      "\n"
     ]
    },
    {
     "name": "stderr",
     "output_type": "stream",
     "text": [
      "INFO: HTTP Request: POST https://api3.aitok.ai/openai/v1/chat/completions \"HTTP/1.1 200 OK\"\n"
     ]
    },
    {
     "name": "stdout",
     "output_type": "stream",
     "text": [
      "Fixing error code.\n"
     ]
    },
    {
     "name": "stderr",
     "output_type": "stream",
     "text": [
      "INFO: HTTP Request: POST https://api3.aitok.ai/openai/v1/chat/completions \"HTTP/1.1 200 OK\"\n",
      "INFO: HTTP Request: POST https://api3.aitok.ai/openai/v1/chat/completions \"HTTP/1.1 200 OK\"\n",
      "INFO: HTTP Request: POST https://api3.aitok.ai/openai/v1/chat/completions \"HTTP/1.1 200 OK\"\n",
      "INFO: HTTP Request: POST https://api3.aitok.ai/openai/v1/chat/completions \"HTTP/1.1 200 OK\"\n",
      "INFO: HTTP Request: POST https://api3.aitok.ai/openai/v1/chat/completions \"HTTP/1.1 200 OK\"\n"
     ]
    },
    {
     "name": "stdout",
     "output_type": "stream",
     "text": [
      "Code executed with output:\n",
      "Traceback (most recent call last):\n",
      "  File \"/home/qixin/BIA-Ghostcoder/.venv/lib/python3.12/site-packages/pandas/core/indexes/base.py\", line 3805, in get_loc\n",
      "    return self._engine.get_loc(casted_key)\n",
      "           ^^^^^^^^^^^^^^^^^^^^^^^^^^^^^^^^\n",
      "  File \"index.pyx\", line 167, in pandas._libs.index.IndexEngine.get_loc\n",
      "  File \"index.pyx\", line 196, in pandas._libs.index.IndexEngine.get_loc\n",
      "  File \"pandas/_libs/hashtable_class_helper.pxi\", line 7081, in pandas._libs.hashtable.PyObjectHashTable.get_item\n",
      "  File \"pandas/_libs/hashtable_class_helper.pxi\", line 7089, in pandas._libs.hashtable.PyObjectHashTable.get_item\n",
      "KeyError: 'mt'\n",
      "\n",
      "The above exception was the direct cause of the following exception:\n",
      "\n",
      "Traceback (most recent call last):\n",
      "  File \"/home/qixin/BIA-Ghostcoder/Test/test_01/tmp_code_d6cf16450aac61128bd6abc930418100a7dd348389380aad60049167851ec282.py\", line 18, in <module>\n",
      "    sc.pp.calculate_qc_metrics(adata, qc_vars=['mt'], inplace=True)\n",
      "  File \"/home/qixin/BIA-Ghostcoder/.venv/lib/python3.12/site-packages/scanpy/preprocessing/_qc.py\", line 311, in calculate_qc_metrics\n",
      "    obs_metrics = describe_obs(\n",
      "                  ^^^^^^^^^^^^^\n",
      "  File \"/home/qixin/BIA-Ghostcoder/.venv/lib/python3.12/site-packages/scanpy/preprocessing/_qc.py\", line 132, in describe_obs\n",
      "    axis_sum(X[:, adata.var[qc_var].values], axis=1)\n",
      "                  ~~~~~~~~~^^^^^^^^\n",
      "  File \"/home/qixin/BIA-Ghostcoder/.venv/lib/python3.12/site-packages/pandas/core/frame.py\", line 4102, in __getitem__\n",
      "    indexer = self.columns.get_loc(key)\n",
      "              ^^^^^^^^^^^^^^^^^^^^^^^^^\n",
      "  File \"/home/qixin/BIA-Ghostcoder/.venv/lib/python3.12/site-packages/pandas/core/indexes/base.py\", line 3812, in get_loc\n",
      "    raise KeyError(key) from err\n",
      "KeyError: 'mt'\n",
      "\n",
      "\n"
     ]
    },
    {
     "name": "stderr",
     "output_type": "stream",
     "text": [
      "INFO: HTTP Request: POST https://api3.aitok.ai/openai/v1/chat/completions \"HTTP/1.1 200 OK\"\n"
     ]
    },
    {
     "name": "stdout",
     "output_type": "stream",
     "text": [
      "Fixing error code.\n"
     ]
    },
    {
     "name": "stderr",
     "output_type": "stream",
     "text": [
      "INFO: HTTP Request: POST https://api3.aitok.ai/openai/v1/chat/completions \"HTTP/1.1 200 OK\"\n",
      "INFO: HTTP Request: POST https://api3.aitok.ai/openai/v1/chat/completions \"HTTP/1.1 200 OK\"\n",
      "INFO: HTTP Request: POST https://api3.aitok.ai/openai/v1/chat/completions \"HTTP/1.1 200 OK\"\n"
     ]
    }
   ],
   "source": [
    "from ghostcoder.config import file_config, ghostcoder_config\n",
    "from ghostcoder.graph import create_ghostcoder_agent\n",
    "\n",
    "# Task description, from scanpy tutorials - basics - preprocessing and clustering - Quality Control\n",
    "task_description = \"\"\"\n",
    "Develop a module to perform quality control (QC) on single-cell RNA-sequencing data using Scanpy. The input is an AnnData object containing gene expression data. Generate visual summaries with violin and scatter plots for metrics such as n_genes_by_counts, total_counts, and pct_counts_mt. Filter out cells with fewer than 100 genes and genes detected in fewer than 3 cells. Ensure visualizations support threshold selection and that the updated AnnData object is ready for downstream analysis with robust quality outcomes.\n",
    "\"\"\"\n",
    "\n",
    "# Set task id\n",
    "ghostcoder_config.TASK_ID = \"test_01\" # use task id for each task dir\n",
    "\n",
    "# Set workdir as current dir\n",
    "current_dir = Path.cwd()\n",
    "file_config.WORK_DIR = current_dir\n",
    "\n",
    "\n",
    "# Parse input\n",
    "graph_input = {\n",
    "    #\"task_id\" : \"Test\", # \n",
    "    \"task_description\": task_description, \n",
    "    \"previous_codeblock\": \"\", \n",
    "    #\"max_iter\": 5,\n",
    "}\n",
    "\n",
    "# Initial Ghost Coder\n",
    "ghostcoder = create_ghostcoder_agent(\n",
    "    chat_model = chat_model, \n",
    "    code_model = code_model,\n",
    "    max_retry = 3,\n",
    "    )\n",
    "\n",
    "# Run Ghost Coder\n",
    "fin_states = await ghostcoder.ainvoke(\n",
    "    graph_input,\n",
    "    {\"recursion_limit\": 100},\n",
    "    )"
   ]
  },
  {
   "cell_type": "code",
   "execution_count": 9,
   "id": "6950b47d",
   "metadata": {},
   "outputs": [
    {
     "name": "stdout",
     "output_type": "stream",
     "text": [
      "```python\n",
      "# Import necessary libraries\n",
      "import scanpy as sc\n",
      "import os\n",
      "\n",
      "# Define input and output directories\n",
      "input_file = '/home/qixin/BIA-Ghostcoder/Test/test_01/data/pbmc3k_raw.h5ad'\n",
      "results_dir = '/home/qixin/BIA-Ghostcoder/Test/test_01/results'\n",
      "figures_dir = '/home/qixin/BIA-Ghostcoder/Test/test_01/figures'\n",
      "\n",
      "# Ensure output directories exist\n",
      "os.makedirs(results_dir, exist_ok=True)\n",
      "os.makedirs(figures_dir, exist_ok=True)\n",
      "\n",
      "# Load the data\n",
      "adata = sc.read_h5ad(input_file)\n",
      "\n",
      "# Perform quality control by calculating QC metrics\n",
      "sc.pp.calculate_qc_metrics(adata, qc_vars=['mt'], inplace=True)\n",
      "\n",
      "# Assert that the expected keys are in the AnnData object\n",
      "assert 'n_genes_by_counts' in adata.obs, \"Expected 'n_genes_by_counts' in obs\"\n",
      "assert 'total_counts' in adata.obs, \"Expected 'total_counts' in obs\"\n",
      "assert 'pct_counts_mt' in adata.obs, \"Expected 'pct_counts_mt' in obs\"\n",
      "\n",
      "# Generate and save violin plots for QC metrics\n",
      "sc.pl.violin(adata, ['n_genes_by_counts', 'total_counts', 'pct_counts_mt'],\n",
      "             jitter=0.4, multi_panel=True, save=f'/violin_qc_metrics.png', show=False)\n",
      "\n",
      "# Generate and save scatter plots for QC metrics\n",
      "sc.pl.scatter(adata, x='total_counts', y='pct_counts_mt', save=f'/scatter_total_vs_mt.png', show=False)\n",
      "sc.pl.scatter(adata, x='total_counts', y='n_genes_by_counts', save=f'/scatter_total_vs_genes.png', show=False)\n",
      "\n",
      "# Filter cells and genes based on thresholds\n",
      "sc.pp.filter_cells(adata, min_genes=100)\n",
      "sc.pp.filter_genes(adata, min_cells=3)\n",
      "\n",
      "# Save the filtered AnnData object\n",
      "adata.write(os.path.join(results_dir, 'filtered_pbmc3k.h5ad'))\n",
      "\n",
      "# Print a summary of the filtered data\n",
      "print(f\"Filtered data shape: {adata.shape}\")\n",
      "print(f\"Keys in obs: {adata.obs_keys()}\")\n",
      "print(f\"Keys in var: {adata.var_keys()}\")\n",
      "```\n",
      "\n",
      "### Explanation:\n",
      "- **Imports and Directories**: The code begins by importing necessary libraries and setting up input/output directories.\n",
      "- **Data Loading**: The single-cell RNA-seq data is loaded using `scanpy`.\n",
      "- **Quality Control**: QC metrics are calculated using `sc.pp.calculate_qc_metrics`, and assertions ensure the metrics are present.\n",
      "- **Visualization**: Violin and scatter plots are generated to visualize QC metrics, with plots saved to the specified directory.\n",
      "- **Filtering**: Cells and genes are filtered based on specified thresholds.\n",
      "- **Saving and Summary**: The filtered data is saved, and a summary of the filtered data is printed.\n"
     ]
    }
   ],
   "source": [
    "print(fin_states['generated_codeblock'])"
   ]
  },
  {
   "cell_type": "markdown",
   "id": "e6a6a85d",
   "metadata": {},
   "source": [
    "## Solo Test for sub modules\n",
    "### File management and data perception by ghostcoder.filemanager"
   ]
  },
  {
   "cell_type": "code",
   "execution_count": null,
   "id": "b2b43123",
   "metadata": {},
   "outputs": [],
   "source": [
    "# Please change your dir to Ghostcoder/Test\n",
    "os.chdir('Test')"
   ]
  },
  {
   "cell_type": "code",
   "execution_count": null,
   "id": "ac6f77a9",
   "metadata": {},
   "outputs": [],
   "source": [
    "# The fill manager will automatically set up file system and percept the input data \n",
    "# A initial file system status for a task with task_id should as follow: \n",
    "#─┬─────work_dir \n",
    "# ├─┬───data\n",
    "# │ └───Input_data.whatever\n",
    "# └─┬───task_id // Work dir for every new tasks\n",
    "#   ├─┬─data  \n",
    "#   │ └─Input_data.whatever // A copy from work_dir/data/\n",
    "#   ├───figures // Where output figures will be saved\n",
    "#   └───results // Where processed data will be saved\n",
    "#\n",
    "# The file manager will automatically detect data files (any format) under work_dir/task_id/data/ folder\n",
    "#\n",
    "\n",
    "from ghostcoder.config import docker_config, file_config\n",
    "from ghostcoder.graph import create_filemanager_agent\n",
    "\n",
    "#  Set workdir as current dir\n",
    "current_dir = Path.cwd()\n",
    "file_config.WORK_DIR = current_dir\n",
    "\n",
    "\n",
    "\n",
    "# Initial graph\n",
    "manager = create_filemanager_agent(\n",
    "        chat_model = chat_model, \n",
    "        code_model = code_model,\n",
    "        max_retry = 3,\n",
    "        )\n",
    "\n",
    "# Parse input\n",
    "fm_input = {\n",
    "    \"task_id\" : \"Test\", # \n",
    "    \"docker_profile_dir\": docker_config.DOCKER_PROFILES_DIR, # use pre-set docker profiles, please read those docker images \n",
    "    \"max_iter\": 3,\n",
    "}\n",
    "\n",
    "fm_state = await manager.ainvoke(fm_input)\n",
    "\n",
    "print(f\"Data perception of given data:\\n{fm_state['data_perc']}\")"
   ]
  },
  {
   "cell_type": "code",
   "execution_count": null,
   "id": "a8b1f54e",
   "metadata": {},
   "outputs": [],
   "source": [
    "# Visualize the graph [optional], if failed try to run the cell again \n",
    "Image(manager.get_graph().draw_mermaid_png())"
   ]
  },
  {
   "cell_type": "code",
   "execution_count": null,
   "id": "4fd45166",
   "metadata": {},
   "outputs": [],
   "source": []
  },
  {
   "cell_type": "markdown",
   "id": "ac4a70ef",
   "metadata": {},
   "source": [
    "### Coder, generate bioinformatic analysis code and execution, with self-correction"
   ]
  },
  {
   "cell_type": "code",
   "execution_count": null,
   "id": "7cc65232",
   "metadata": {},
   "outputs": [],
   "source": [
    "# Please change your dir to Ghostcoder/Test\n",
    "os.chdir('Test')"
   ]
  },
  {
   "cell_type": "code",
   "execution_count": null,
   "id": "345c6c92",
   "metadata": {},
   "outputs": [],
   "source": [
    "from ghostcoder.graph import create_coder_agent\n",
    "from ghostcoder.docker import get_docker_status\n",
    "from ghostcoder.utils import get_native_env_perception\n",
    "\n",
    "#  Set workdir as current dir\n",
    "current_dir = Path.cwd()\n",
    "file_config.WORK_DIR = current_dir\n",
    "\n",
    "# Task instructions, parsed from scanpy tutorials, Preprocessing and clustering, first part: QC, https://scanpy.readthedocs.io/en/stable/tutorials/basics/clustering.html\n",
    "# IIn real world scenarios where the retriever is involved, the instructions are usually not this long, thanks to the reference code blocks, they prepared more detailed and standardized process for use in advance. \n",
    "task_instruction = \"\"\"\n",
    "Please implement the quality control for the given scRNAseq data using python with the following instructions:\n",
    "The quality control phase was designed to rigorously assess and refine the cell expression dataset prior to normalization. Initially, genes were categorized based on specific nucleotide sequence patterns that indicate mitochondrial, ribosomal, or hemoglobin origin. This gene categorization was essential for the subsequent computation of comprehensive quality metrics for each cell, including the total number of genes detected, the sum of transcript counts, and the fraction of transcripts derived from mitochondrial genes. To visualize these metrics, a series of plots were created. Violin plots were employed to illustrate the distribution of gene counts per cell, overall transcript counts, and the mitochondrial transcript percentages across the entire cell population. These plots enabled the identification of cells with anomalous expression profiles that might result from technical confounders or biological stress. A scatter plot was also generated to explore the relationship between the total counts and the number of genes detected per cell, with a color gradient depicting the proportion of mitochondrial counts; this assisted in discerning potential outlier cells. Furthermore, criteria were established to filter out cells demonstrating extremely low gene expression, and an algorithm was applied to flag potential doublets. This methodical approach ensured that only high-quality cells advanced to the normalization stage, thereby preserving the integrity of downstream analyses.\n",
    "\"\"\"\n",
    "\n",
    "# Set up environment profiles, from file manager\n",
    "env_profiles = {\n",
    "    \"task_dirs\":{\n",
    "        \"task_dir\": \"Test\",\n",
    "        \"data_dir\": \"data\",\n",
    "        \"figure_dir\": \"figures\",\n",
    "        \"output_dir\": \"results\",\n",
    "    },\n",
    "    \"docker status\": get_docker_status(),\n",
    "    \"native env languages\": get_native_env_perception(),\n",
    "}\n",
    "\n",
    "# Data perception, from file manager\n",
    "data_perception = \"\"\"\n",
    "File Name: pbmc3k_raw.h5ad\n",
    "File Format: .h5ad\n",
    "Selected Programming Language: Python with anndata/scanpy (suitable for .h5ad format)\n",
    "Data Structure: Expression matrix shape: (2700, 32738)\n",
    "Biologically Relevant Fields: \n",
    "  - obs keys: []\n",
    "  - var keys: ['gene_ids']\n",
    "  - Cell Types: Not available\n",
    "  - Gene Names: Not available\n",
    "Metadata: No additional metadata\n",
    "\n",
    "\n",
    "File Name: data_description.txt\n",
    "File Format: .txt\n",
    "Selected Programming Language: Python (suitable for text processing)\n",
    "Content: **This file is used to provide addtionnal description for given data files**\n",
    "\n",
    "pbmc3k_raw.h5ad: The data used in this basic preprocessing and clustering tutorial was collected from bone marrow mononuclear cells of healthy human donors. The samples used in this tutorial were measured using the 10X Multiome Gene Expression and Chromatin Accessability kit.\n",
    "\n",
    "\"\"\"\n",
    "\n",
    "# Reference code blocks, can be provided by retriever, here we test with no reference \n",
    "ref_CBs = []\n",
    "\n",
    "# Initial the agent\n",
    "coder = create_coder_agent(\n",
    "        chat_model = chat_model, \n",
    "        code_model = code_model,\n",
    "        max_retry = 3,\n",
    "        )\n",
    "\n",
    "# Parse input \n",
    "coder_input = {\n",
    "    \"task_instruction\": task_instruction,\n",
    "    \"data_perception\": data_perception,\n",
    "    \"previous_codeblock\": \"\", # We don't have any prior process steps\n",
    "    \"ref_codeblocks\": ref_CBs,\n",
    "    \"env_profiles\": env_profiles,\n",
    "}\n",
    "\n",
    "coder_state = await coder.ainvoke(coder_input)\n",
    "\n"
   ]
  },
  {
   "cell_type": "code",
   "execution_count": null,
   "id": "131cf446",
   "metadata": {},
   "outputs": [],
   "source": [
    "print(f\"The coder geneerated the code within {coder_state['n_iter']} iterations.\")\n",
    "if \"n_error\" in coder_state.keys():\n",
    "    print(f\"Automatically fix error {coder_state['n_error']} times.\")\n",
    "else:\n",
    "    print(f\"Code executed without error.\")\n",
    "print(f\"Generated code:\\n--------\\n{coder_state['generated_codeblock'][-1]}\\n--------\\n\")\n",
    "print(f\"With execution result as:{coder_state['execution_outstr']}\")\n"
   ]
  },
  {
   "cell_type": "code",
   "execution_count": null,
   "id": "52bb7661",
   "metadata": {},
   "outputs": [],
   "source": []
  },
  {
   "cell_type": "markdown",
   "id": "c47e4b32",
   "metadata": {},
   "source": [
    "### Native env and Docker executor, test along"
   ]
  },
  {
   "cell_type": "code",
   "execution_count": null,
   "id": "109b4138",
   "metadata": {},
   "outputs": [],
   "source": [
    "from ghostcoder.graph import create_executor_agent\n",
    "from ghostcoder.docker import get_docker_status\n",
    "from ghostcoder.utils import get_native_env_perception\n",
    "\n",
    "#  Set workdir as current dir\n",
    "current_dir = Path.cwd()\n",
    "file_config.WORK_DIR = current_dir\n",
    "\n",
    "# Set up environment profiles\n",
    "env_profiles = {\n",
    "    \"task_dirs\":{\n",
    "        \"task_dir\": \"Test\",\n",
    "        \"data_dir\": \"data\",\n",
    "        \"figure_dir\": \"figures\",\n",
    "        \"output_dir\": \"results\",\n",
    "    },\n",
    "    \"docker status\": get_docker_status(),\n",
    "    \"native env languages\": get_native_env_perception(),\n",
    "}\n",
    "\n",
    "# Initial agent\n",
    "agent = create_executor_agent(\n",
    "        chat_model = chat_model, \n",
    "        code_model = code_model,\n",
    "        max_retry = 3,\n",
    "    )\n",
    "\n",
    "\n",
    "\n",
    "# Test executor with bash python and R\n",
    "test_bash_code =\"\"\"\n",
    "ls -al\n",
    "\"\"\"\n",
    "\n",
    "test_python_code = \"\"\"\n",
    "print(\"Hello World\")\n",
    "\"\"\"\n",
    "\n",
    "test_r_code =\"\"\"\n",
    "my_str <- \"Hello World\"\n",
    "print(my_str)\n",
    "\"\"\"\n",
    "\n",
    "for codeblock in [\n",
    "    test_bash_code, \n",
    "    test_python_code, \n",
    "    test_r_code\n",
    "    ]:\n",
    "    print(\"Test code executor with\\n\",codeblock)\n",
    "\n",
    "    exe_states = await agent.ainvoke(\n",
    "        {\n",
    "            \"generated_codeblock\":codeblock,\n",
    "            \"env_profiles\": env_profiles,\n",
    "        }\n",
    "    )\n",
    "\n",
    "    print(f\"Agent detected coding language as: {exe_states['language']}\\nUse docker: {exe_states['use_docker']}\")\n",
    "    if exe_states['use_docker']:\n",
    "        print(f\"With docker image{exe_states['docker_image']}\")\n",
    "    print(f\"Code execute output:\\n{exe_states['execution_results']}\\n--------\\n\\n\")"
   ]
  },
  {
   "cell_type": "code",
   "execution_count": null,
   "id": "d81c1cbc",
   "metadata": {},
   "outputs": [],
   "source": [
    "# Visualize the graph [optional], if failed try to run the cell again \n",
    "Image(agent.get_graph().draw_mermaid_png())"
   ]
  },
  {
   "cell_type": "code",
   "execution_count": null,
   "id": "2e0c470e",
   "metadata": {},
   "outputs": [],
   "source": []
  },
  {
   "cell_type": "markdown",
   "id": "7ddc5881",
   "metadata": {},
   "source": [
    "### Web crawler, test along"
   ]
  },
  {
   "cell_type": "code",
   "execution_count": null,
   "id": "037290a4",
   "metadata": {},
   "outputs": [],
   "source": [
    "from ghostcoder.graph import create_crawler_agent\n",
    "\n",
    "# Initial agent\n",
    "agent = create_crawler_agent(\n",
    "        chat_model = chat_model, \n",
    "        code_model = code_model,\n",
    "        max_retry = 3,\n",
    "    )\n",
    "\n",
    "# Input \n",
    "query_context = \"I'm looking for R codes for analysis single cell trajectory using monocl2\"\n",
    "\n",
    "# Invoke\n",
    "crawl_state = agent.invoke(\n",
    "    {\n",
    "        \"query_context\": query_context,\n",
    "    }\n",
    "    )\n",
    "\n",
    "# Print results\n",
    "print(\"--------\\nGenerated query for given context:\")\n",
    "for q in crawl_state['query_list']:\n",
    "    print(q)\n",
    "print(f\"Get total {len(crawl_state['useful_results'])} useful web search results\")\n",
    "print(\"Crawled and parsed web information as follow:\")\n",
    "print(crawl_state['summary'])\n"
   ]
  },
  {
   "cell_type": "code",
   "execution_count": null,
   "id": "f999f31f",
   "metadata": {},
   "outputs": [],
   "source": [
    "# Visualize the graph [optional], if failed try to run the cell again \n",
    "Image(agent.get_graph().draw_mermaid_png())"
   ]
  },
  {
   "cell_type": "code",
   "execution_count": null,
   "id": "902fa04b",
   "metadata": {},
   "outputs": [],
   "source": []
  },
  {
   "cell_type": "markdown",
   "id": "572d7952",
   "metadata": {},
   "source": [
    "### Test retriever agent"
   ]
  },
  {
   "cell_type": "code",
   "execution_count": null,
   "id": "52991ef0",
   "metadata": {},
   "outputs": [],
   "source": [
    "from ghostcoder.graph import create_retriever_agent\n",
    "\n",
    "# Initial agent\n",
    "agent = create_retriever_agent(\n",
    "        chat_model = chat_model, \n",
    "        code_model = code_model,\n",
    "        max_retry = 3,\n",
    "    )\n",
    "\n",
    "# Input \n",
    "task_description = \"Single cell RNAseq quality control\"\n",
    "\n",
    "# Invoke\n",
    "retriever_state = agent.invoke(\n",
    "    {\n",
    "        \"task_description\": task_description,\n",
    "    }\n",
    "    )\n",
    "\n",
    "# Print reference code blocks\n",
    "i = 1\n",
    "for cb in retriever_state['ref_codeblocks']:\n",
    "    print(f\"Reference code block #{i}\")\n",
    "    print(cb)\n",
    "    print(\"\\n=========================\\n\\n\"\n",
    "    i+=1"
   ]
  },
  {
   "cell_type": "code",
   "execution_count": null,
   "id": "020dd238",
   "metadata": {},
   "outputs": [],
   "source": []
  }
 ],
 "metadata": {
  "kernelspec": {
   "display_name": "BIA-Ghostcoder",
   "language": "python",
   "name": "bia-ghostcoder"
  },
  "language_info": {
   "codemirror_mode": {
    "name": "ipython",
    "version": 3
   },
   "file_extension": ".py",
   "mimetype": "text/x-python",
   "name": "python",
   "nbconvert_exporter": "python",
   "pygments_lexer": "ipython3",
   "version": "3.12.10"
  }
 },
 "nbformat": 4,
 "nbformat_minor": 5
}
