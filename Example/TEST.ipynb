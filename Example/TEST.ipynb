{
 "cells": [
  {
   "cell_type": "code",
   "execution_count": null,
   "id": "f149477a",
   "metadata": {},
   "outputs": [
    {
     "ename": "ImportError",
     "evalue": "cannot import name 'create_rag_agent' from 'ghostcoder.graph' (/home/qixin/BIA-Ghostcoder/ghostcoder/graph/__init__.py)",
     "output_type": "error",
     "traceback": [
      "\u001b[0;31m---------------------------------------------------------------------------\u001b[0m",
      "\u001b[0;31mImportError\u001b[0m                               Traceback (most recent call last)",
      "Cell \u001b[0;32mIn[1], line 12\u001b[0m\n\u001b[1;32m     10\u001b[0m \u001b[38;5;28;01mfrom\u001b[39;00m \u001b[38;5;21;01mghostcoder\u001b[39;00m \u001b[38;5;28;01mimport\u001b[39;00m GhostCoder\n\u001b[1;32m     11\u001b[0m \u001b[38;5;28;01mfrom\u001b[39;00m \u001b[38;5;21;01mghostcoder\u001b[39;00m\u001b[38;5;21;01m.\u001b[39;00m\u001b[38;5;21;01mutils\u001b[39;00m \u001b[38;5;28;01mimport\u001b[39;00m \u001b[38;5;241m*\u001b[39m\n\u001b[0;32m---> 12\u001b[0m \u001b[38;5;28;01mfrom\u001b[39;00m \u001b[38;5;21;01mghostcoder\u001b[39;00m\u001b[38;5;21;01m.\u001b[39;00m\u001b[38;5;21;01mgraph\u001b[39;00m \u001b[38;5;28;01mimport\u001b[39;00m create_ghostcoder_agent, create_coder_agent, create_crawler_agent, create_rag_agent\n",
      "\u001b[0;31mImportError\u001b[0m: cannot import name 'create_rag_agent' from 'ghostcoder.graph' (/home/qixin/BIA-Ghostcoder/ghostcoder/graph/__init__.py)"
     ]
    }
   ],
   "source": [
    "import os \n",
    "import sys\n",
    "import scanpy as sc\n",
    "\n",
    "# Append ghostcoder folder to path \n",
    "sys.path.append(os.path.abspath('..'))\n",
    "\n",
    "import ghostcoder\n",
    "\n",
    "from ghostcoder import GhostCoder\n",
    "from ghostcoder.utils import *\n",
    "from ghostcoder.graph import create_ghostcoder_agent, create_coder_agent, create_crawler_agent, create_retriever_agent"
   ]
  },
  {
   "cell_type": "markdown",
   "id": "89124644",
   "metadata": {},
   "source": [
    "Here we will test and illustrate each subgraph in Ghostcoder, as an important component of BIA (bioinformatics agnet), mainly functions to complete the generation and execution of bioinformatics analysis codes. It contains five subgraphs. They are filemanager, retriever, coder and webcrawler executor respectively.\n",
    "\n",
    "\n",
    "### File system and omics data preparation"
   ]
  },
  {
   "cell_type": "code",
   "execution_count": 2,
   "metadata": {},
   "outputs": [
    {
     "ename": "NameError",
     "evalue": "name 'ghostcoder' is not defined",
     "output_type": "error",
     "traceback": [
      "\u001b[0;31m---------------------------------------------------------------------------\u001b[0m",
      "\u001b[0;31mNameError\u001b[0m                                 Traceback (most recent call last)",
      "Cell \u001b[0;32mIn[2], line 2\u001b[0m\n\u001b[1;32m      1\u001b[0m \u001b[38;5;66;03m# Set task_id as \"Test\"\u001b[39;00m\n\u001b[0;32m----> 2\u001b[0m ghostcoder\u001b[38;5;241m.\u001b[39mconfig\u001b[38;5;241m.\u001b[39mTASK_ID \u001b[38;5;241m=\u001b[39m \u001b[38;5;124m\"\u001b[39m\u001b[38;5;124mTest\u001b[39m\u001b[38;5;124m\"\u001b[39m\n\u001b[1;32m      4\u001b[0m \u001b[38;5;124;03m\"\"\"\u001b[39;00m\n\u001b[1;32m      5\u001b[0m \u001b[38;5;124;03mInitial file system status as follow: \u001b[39;00m\n\u001b[1;32m      6\u001b[0m \u001b[38;5;124;03m├───Test  \u001b[39;00m\n\u001b[0;32m   (...)\u001b[0m\n\u001b[1;32m      9\u001b[0m \u001b[38;5;124;03mWhere we set \u001b[39;00m\n\u001b[1;32m     10\u001b[0m \u001b[38;5;124;03m  \"\"\"\u001b[39;00m\n",
      "\u001b[0;31mNameError\u001b[0m: name 'ghostcoder' is not defined"
     ]
    }
   ],
   "source": [
    "# Set task_id as \"Test\"\n",
    "ghostcoder.config.TASK_ID = \"Test\"\n",
    "\n",
    "\"\"\"\n",
    "Initial file system status as follow: \n",
    "├───Test  \n",
    "└───data  \n",
    "  └─pbmc3k_raw.h5ad  \n",
    "Where we set \n",
    "  \"\"\"\n"
   ]
  },
  {
   "cell_type": "code",
   "execution_count": null,
   "id": "ac6f77a9",
   "metadata": {},
   "outputs": [],
   "source": []
  },
  {
   "cell_type": "markdown",
   "id": "ba9427ac",
   "metadata": {},
   "source": [
    "### Model preparation "
   ]
  },
  {
   "cell_type": "code",
   "execution_count": null,
   "id": "60bbbe95",
   "metadata": {},
   "outputs": [],
   "source": [
    "# Use Openai API for example, you can use other LLM provider as well\n",
    "from langchain_openai import ChatOpenAI\n",
    "\n",
    "# I will recommend use Openai API, I haven't tested any APIs from other suppliers yet\n",
    "def call_chatllm_openai(api_key, api_base, model_name):\n",
    "    llm = ChatOpenAI(\n",
    "        openai_api_key = api_key,\n",
    "        openai_api_base=api_base,\n",
    "        model = model_name)\n",
    "    return llm\n",
    "\n",
    "# Setup up api keys \n",
    "# openai_api_key = \"\"\n",
    "# openai_api_base = \"\"\n",
    "# openai_chat_model = \"\" \n",
    "# openai_code_model = \"\"\n",
    "\n",
    "# Here, I recommend using an LLM with stronger coding capabilities as the code model, which is set to perform code-related work in all Ghostcoder graphs. Meanwhile, it is better to use LLM with stronger reasoning ability as the chat model.\n",
    "chat_model = call_chatllm_openai(openai_api_key, openai_api_base, openai_chat_model)\n",
    "code_model = call_chatllm_openai(openai_api_key, openai_api_base, openai_code_model)"
   ]
  },
  {
   "cell_type": "code",
   "execution_count": null,
   "id": "0cc2ba8c",
   "metadata": {},
   "outputs": [],
   "source": []
  },
  {
   "cell_type": "code",
   "execution_count": null,
   "id": "341b57c0",
   "metadata": {},
   "outputs": [],
   "source": [
    "# Initial Tavily\n",
    "tavily_api = \"\"\n",
    "os.environ[\"TAVILY_API_KEY\"] = tavily_api"
   ]
  },
  {
   "cell_type": "code",
   "execution_count": null,
   "id": "836d652d",
   "metadata": {},
   "outputs": [],
   "source": [
    "# Data \n",
    "adata = sc.datasets.pbmc3k()"
   ]
  },
  {
   "cell_type": "code",
   "execution_count": null,
   "id": "0a4c5871",
   "metadata": {},
   "outputs": [],
   "source": [
    "# Initial graph\n",
    "agent = GhostCoder(\n",
    "    chat_model = chat_model, \n",
    "    code_model = code_model, \n",
    "    )\n",
    "\n",
    "# Draw graph\n",
    "agent.draw_graph()"
   ]
  },
  {
   "cell_type": "code",
   "execution_count": null,
   "id": "8a915b72",
   "metadata": {},
   "outputs": [],
   "source": [
    "# Test agent\n",
    "task = \"Quality control of the data. wherein the genes are targeted for labeling, the mitochondrial genes (e.g., beginning with “MT-”), the ribosomal genes (e.g., beginning with “RPS” or “RPL”), and the hemoglobin genes (using regular expression matching, e.g., ^HB[^P]); next, common quality control metrics for each cell, including total counts, number of genes detected, and the proportion of total counts represented by a specific group of genes (e.g., mitochondrial genes), were calculated using Scanpy's calculate_qc_metrics() function, and a The log1p transformation is applied to these metrics to optimize the data distribution. Subsequently, the QC metrics of each cell are visualized by violin plots and scatter plots to assess the overall quality of the data. Finally, a threshold is set based on the visualization results to exclude the cells with fewer than 100 genes and genes occurring in fewer than 3 cells to ensure the quality of the data for downstream analyses.\""
   ]
  },
  {
   "cell_type": "code",
   "execution_count": null,
   "id": "6c3cd5fc",
   "metadata": {},
   "outputs": [],
   "source": [
    "# Run Ghost coder\n",
    "agent.Run(\n",
    "    task, \n",
    "    input_wrap = input_variable_wrapper([adata])\n",
    "    )"
   ]
  }
 ],
 "metadata": {
  "kernelspec": {
   "display_name": "BIA-dev",
   "language": "python",
   "name": "python3"
  },
  "language_info": {
   "codemirror_mode": {
    "name": "ipython",
    "version": 3
   },
   "file_extension": ".py",
   "mimetype": "text/x-python",
   "name": "python",
   "nbconvert_exporter": "python",
   "pygments_lexer": "ipython3",
   "version": "3.11.8"
  }
 },
 "nbformat": 4,
 "nbformat_minor": 5
}
