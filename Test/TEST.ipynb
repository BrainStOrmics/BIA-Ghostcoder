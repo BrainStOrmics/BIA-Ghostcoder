{
 "cells": [
  {
   "cell_type": "code",
   "execution_count": 1,
   "id": "0e2ccf8f",
   "metadata": {},
   "outputs": [],
   "source": [
    "%load_ext autoreload    \n",
    "%autoreload 2    "
   ]
  },
  {
   "cell_type": "code",
   "execution_count": 2,
   "id": "f149477a",
   "metadata": {},
   "outputs": [],
   "source": [
    "import os \n",
    "import sys\n",
    "from pathlib import Path # To set data downloading path\n",
    "\n",
    "# Append ghostcoder folder to path \n",
    "sys.path.append(os.path.abspath('..'))\n",
    "from ghostcoder.config import llm_config, load_yaml_config\n",
    "\n",
    "# For visualize the graph\n",
    "from IPython.display import Image, display"
   ]
  },
  {
   "cell_type": "code",
   "execution_count": 3,
   "id": "81b42419",
   "metadata": {},
   "outputs": [
    {
     "name": "stdout",
     "output_type": "stream",
     "text": [
      "Following keys are using default:\n",
      "\n",
      "\n",
      "\n"
     ]
    }
   ],
   "source": [
    "load_yaml_config('../config.yaml')"
   ]
  },
  {
   "cell_type": "markdown",
   "id": "89124644",
   "metadata": {},
   "source": [
    "Here we will test and illustrate each subgraph in Ghostcoder, as an important component of BIA (bioinformatics agnet), mainly functions to complete the generation and execution of bioinformatics analysis codes. It contains five subgraphs. They are filemanager, retriever, coder and webcrawler executor respectively.\n"
   ]
  },
  {
   "cell_type": "markdown",
   "id": "a6bb5572",
   "metadata": {},
   "source": [
    "### Set ups\n",
    "\n",
    "#### Set up LLMs"
   ]
  },
  {
   "cell_type": "code",
   "execution_count": 4,
   "id": "b1fb6395",
   "metadata": {},
   "outputs": [],
   "source": [
    "from ghostcoder.config import initial_LLMs\n",
    "initial_LLMs()\n",
    "chat_model = llm_config.MODELS['chat_model']\n",
    "code_model = llm_config.MODELS['code_model']"
   ]
  },
  {
   "cell_type": "code",
   "execution_count": null,
   "id": "24dfb68e",
   "metadata": {},
   "outputs": [],
   "source": [
    "# Test LLM\n",
    "response = chat_model.invoke(\"What is bioinformatics\")\n",
    "print(response.content)"
   ]
  },
  {
   "cell_type": "markdown",
   "id": "28add431",
   "metadata": {},
   "source": [
    "#### Set up Tavily search"
   ]
  },
  {
   "cell_type": "code",
   "execution_count": null,
   "id": "c96fe9ee",
   "metadata": {},
   "outputs": [],
   "source": [
    "from ghostcoder.config import tavily_config\n",
    "tavily_config.API_KEY, tavily_config.MAX_RESULTS"
   ]
  },
  {
   "cell_type": "markdown",
   "id": "a94247d2",
   "metadata": {},
   "source": [
    "### Omics data preparation"
   ]
  },
  {
   "cell_type": "code",
   "execution_count": null,
   "id": "b025040f",
   "metadata": {},
   "outputs": [],
   "source": [
    "# Please change your dir to Ghostcoder/Test\n",
    "# os.chdir('Test') #If you open this notebook not in 'Test'|"
   ]
  },
  {
   "cell_type": "code",
   "execution_count": null,
   "id": "c8466b47",
   "metadata": {},
   "outputs": [],
   "source": [
    "#──────work_dir \n",
    "#  └───data\n",
    "#    └─Input_data.whatever\n",
    "# First lets download a scRNAseq data\n",
    "import scanpy as sc\n",
    "import shutil\n",
    "from ghostcoder.config import file_config\n",
    "\n",
    "current_dir = Path.cwd()\n",
    "# Ghostcoder pre-set WORK_DIR and INPUT_DATA_DIR for continues bioinformatics tasks using one input data\n",
    "\n",
    "# Download scRNAseq data\n",
    "sc.settings.datasetdir = current_dir/ file_config.INPUT_DATA_DIR # Download data into data/ folder in current dir\n",
    "sc.datasets.pbmc3k()\n",
    "\n",
    "# Remove temp data file\n",
    "current_dir = 'data'\n",
    "sub_dir = [d for d in os.listdir(current_dir)  if os.path.isdir(os.path.join(current_dir, d))]\n",
    "try:\n",
    "    shutil.rmtree(os.path.join(current_dir,sub_dir[0]))\n",
    "except:\n",
    "    print('No temp file left')\n",
    "\n",
    "# Create a data description file to illustrate the scRNAseq data details \n",
    "data_des = \"The data used in this basic preprocessing and clustering tutorial was collected from bone marrow mononuclear cells of healthy human donors. The samples used in this tutorial were measured using the 10X Multiome Gene Expression and Chromatin Accessability kit.\"\n",
    "\n",
    "with open('data/data_description.txt','w') as f:\n",
    "    f.write(data_des)\n",
    "    \n",
    "# Set workdir as current dir\n",
    "file_config.WORK_DIR = current_dir"
   ]
  },
  {
   "cell_type": "markdown",
   "id": "11c746e6",
   "metadata": {},
   "source": [
    "### Run GhostCoder"
   ]
  },
  {
   "cell_type": "code",
   "execution_count": null,
   "id": "60565987",
   "metadata": {},
   "outputs": [],
   "source": [
    "from ghostcoder.config import file_config, ghostcoder_config\n",
    "from ghostcoder.graph import create_ghostcoder_agent\n",
    "\n",
    "# Task description, from scanpy tutorials - basics - preprocessing and clustering - Quality Control\n",
    "task_description = \"\"\"\n",
    "Develop a module to perform quality control (QC) on single-cell RNA-sequencing data using Scanpy. The input is an AnnData object containing gene expression data. Generate visual summaries with violin and scatter plots for metrics such as n_genes_by_counts, total_counts, and pct_counts_mt. Filter out cells with fewer than 100 genes and genes detected in fewer than 3 cells. Ensure visualizations support threshold selection and that the updated AnnData object is ready for downstream analysis with robust quality outcomes.\n",
    "\"\"\"\n",
    "\n",
    "# Set task id\n",
    "ghostcoder_config.TASK_ID = \"test_01\" # use task id for each task dir\n",
    "\n",
    "# Set workdir as current dir\n",
    "current_dir = Path.cwd()\n",
    "file_config.WORK_DIR = current_dir\n",
    "\n",
    "\n",
    "# Parse input\n",
    "graph_input = {\n",
    "    #\"task_id\" : \"Test\", # \n",
    "    \"task_description\": task_description, \n",
    "    \"previous_codeblock\": \"\", \n",
    "    #\"max_iter\": 5,\n",
    "}\n",
    "\n",
    "# Initial Ghost Coder\n",
    "ghostcoder = create_ghostcoder_agent(\n",
    "    chat_model = chat_model, \n",
    "    code_model = code_model,\n",
    "    max_retry = 3,\n",
    "    )\n",
    "\n",
    "# Run Ghost Coder\n",
    "fin_states = await ghostcoder.ainvoke(\n",
    "    graph_input,\n",
    "    {\"recursion_limit\": 100},\n",
    "    )"
   ]
  },
  {
   "cell_type": "code",
   "execution_count": null,
   "id": "96a85efb",
   "metadata": {},
   "outputs": [],
   "source": [
    "dir(fin_states)"
   ]
  },
  {
   "cell_type": "code",
   "execution_count": null,
   "id": "93ba681b",
   "metadata": {},
   "outputs": [],
   "source": [
    "fin_states.keys()"
   ]
  },
  {
   "cell_type": "code",
   "execution_count": null,
   "id": "905f419c",
   "metadata": {},
   "outputs": [],
   "source": [
    "print(fin_states['data_perception'])"
   ]
  },
  {
   "cell_type": "code",
   "execution_count": null,
   "id": "3ab59299",
   "metadata": {},
   "outputs": [],
   "source": [
    "print(fin_states['generated_codeblock'])"
   ]
  },
  {
   "cell_type": "markdown",
   "id": "e6a6a85d",
   "metadata": {},
   "source": [
    "## Solo Test for sub modules\n",
    "### File management and data perception by ghostcoder.filemanager"
   ]
  },
  {
   "cell_type": "code",
   "execution_count": null,
   "id": "4bfcb20d",
   "metadata": {},
   "outputs": [],
   "source": [
    "# Please change your dir to Ghostcoder/Test\n",
    "#os.chdir('Test')"
   ]
  },
  {
   "cell_type": "code",
   "execution_count": null,
   "id": "ac6f77a9",
   "metadata": {},
   "outputs": [],
   "source": [
    "# The fill manager will automatically set up file system and percept the input data \n",
    "# A initial file system status for a task with task_id should as follow: \n",
    "#─┬─────work_dir \n",
    "# ├─┬───data\n",
    "# │ └───Input_data.whatever\n",
    "# └─┬───task_id // Work dir for every new tasks\n",
    "#   ├─┬─data  \n",
    "#   │ └─Input_data.whatever // A copy from work_dir/data/\n",
    "#   ├───figures // Where output figures will be saved\n",
    "#   └───results // Where processed data will be saved\n",
    "#\n",
    "# The file manager will automatically detect data files (any format) under work_dir/task_id/data/ folder\n",
    "#\n",
    "\n",
    "from ghostcoder.config import docker_config, file_config, ghostcoder_config\n",
    "from ghostcoder.graph import create_filemanager_agent\n",
    "\n",
    "#  Set workdir as current dir\n",
    "current_dir = Path.cwd()\n",
    "file_config.WORK_DIR = current_dir\n",
    "\n",
    "\n",
    "# Set task id\n",
    "ghostcoder_config.TASK_ID = \"test_01\" # use task id for each task dir\n",
    "\n",
    "# Initial graph\n",
    "manager = create_filemanager_agent(\n",
    "        chat_model = chat_model, \n",
    "        code_model = code_model,\n",
    "        max_retry = 3,\n",
    "        )\n",
    "\n",
    "# Parse input\n",
    "fm_input = {\n",
    "    \"task_id\" : ghostcoder_config.TASK_ID, # \n",
    "    \"session_id\" : \"\", # Skip multi-user session id\n",
    "    \"docker_profile_dir\": docker_config.DOCKER_PROFILES_DIR, # use pre-set docker profiles, please read those docker images \n",
    "    \"max_iter\": 3,\n",
    "}\n",
    "\n",
    "fm_state = await manager.ainvoke(fm_input)\n",
    "\n",
    "print(f\"Data perception of given data:\\n{fm_state['data_perc']}\")"
   ]
  },
  {
   "cell_type": "code",
   "execution_count": null,
   "id": "5706e0e9",
   "metadata": {},
   "outputs": [],
   "source": [
    "fm_state"
   ]
  },
  {
   "cell_type": "code",
   "execution_count": null,
   "metadata": {},
   "outputs": [],
   "source": []
  },
  {
   "cell_type": "code",
   "execution_count": null,
   "id": "a8b1f54e",
   "metadata": {},
   "outputs": [],
   "source": [
    "# Visualize the graph [optional], if failed try to run the cell again \n",
    "Image(manager.get_graph().draw_mermaid_png())a"
   ]
  },
  {
   "cell_type": "code",
   "execution_count": null,
   "id": "4fd45166",
   "metadata": {},
   "outputs": [],
   "source": []
  },
  {
   "cell_type": "markdown",
   "id": "ac4a70ef",
   "metadata": {},
   "source": [
    "### Coder, generate bioinformatic analysis code and execution, with self-correction"
   ]
  },
  {
   "cell_type": "code",
   "execution_count": null,
   "id": "433ba10b",
   "metadata": {},
   "outputs": [],
   "source": [
    "# Please change your dir to Ghostcoder/Test\n",
    "os.chdir('Test')"
   ]
  },
  {
   "cell_type": "code",
   "execution_count": null,
   "id": "345c6c92",
   "metadata": {},
   "outputs": [],
   "source": [
    "from ghostcoder.graph import create_coder_agent\n",
    "from ghostcoder.docker import get_docker_status\n",
    "from ghostcoder.utils import get_native_env_perception\n",
    "from ghostcoder.config import file_config\n",
    "\n",
    "#  Set workdir as current dir\n",
    "current_dir = Path.cwd()\n",
    "file_config.WORK_DIR = current_dir\n",
    "\n",
    "# Task instructions, parsed from scanpy tutorials, Preprocessing and clustering, first part: QC, https://scanpy.readthedocs.io/en/stable/tutorials/basics/clustering.html\n",
    "# IIn real world scenarios where the retriever is involved, the instructions are usually not this long, thanks to the reference code blocks, they prepared more detailed and standardized process for use in advance. \n",
    "task_instruction = \"\"\"\n",
    "Please implement the quality control for the given scRNAseq data using python with the following instructions:\n",
    "The quality control phase was designed to rigorously assess and refine the cell expression dataset prior to normalization. Initially, genes were categorized based on specific nucleotide sequence patterns that indicate mitochondrial, ribosomal, or hemoglobin origin. This gene categorization was essential for the subsequent computation of comprehensive quality metrics for each cell, including the total number of genes detected, the sum of transcript counts, and the fraction of transcripts derived from mitochondrial genes. To visualize these metrics, a series of plots were created. Violin plots were employed to illustrate the distribution of gene counts per cell, overall transcript counts, and the mitochondrial transcript percentages across the entire cell population. These plots enabled the identification of cells with anomalous expression profiles that might result from technical confounders or biological stress. A scatter plot was also generated to explore the relationship between the total counts and the number of genes detected per cell, with a color gradient depicting the proportion of mitochondrial counts; this assisted in discerning potential outlier cells. Furthermore, criteria were established to filter out cells demonstrating extremely low gene expression, and an algorithm was applied to flag potential doublets. This methodical approach ensured that only high-quality cells advanced to the normalization stage, thereby preserving the integrity of downstream analyses.\n",
    "\"\"\"\n",
    "\n",
    "# Set up environment profiles, from file manager\n",
    "env_profiles = {\n",
    "    \"task_dirs\":{\n",
    "        \"task_dir\": \"Test\",\n",
    "        \"data_dir\": \"data\",\n",
    "        \"figure_dir\": \"figures\",\n",
    "        \"output_dir\": \"results\",\n",
    "    },\n",
    "    \"docker status\": get_docker_status(),\n",
    "    \"native env languages\": get_native_env_perception(),\n",
    "}\n",
    "\n",
    "# Data perception, from file manager\n",
    "data_perception = \"\"\"\n",
    "File Name: pbmc3k_raw.h5ad\n",
    "File Format: .h5ad\n",
    "Selected Programming Language: Python with anndata/scanpy (suitable for .h5ad format)\n",
    "Data Structure: Expression matrix shape: (2700, 32738)\n",
    "Biologically Relevant Fields: \n",
    "  - obs keys: []\n",
    "  - var keys: ['gene_ids']\n",
    "  - Cell Types: Not available\n",
    "  - Gene Names: Not available\n",
    "Metadata: No additional metadata\n",
    "\n",
    "\n",
    "File Name: data_description.txt\n",
    "File Format: .txt\n",
    "Selected Programming Language: Python (suitable for text processing)\n",
    "Content: **This file is used to provide addtionnal description for given data files**\n",
    "\n",
    "pbmc3k_raw.h5ad: The data used in this basic preprocessing and clustering tutorial was collected from bone marrow mononuclear cells of healthy human donors. The samples used in this tutorial were measured using the 10X Multiome Gene Expression and Chromatin Accessability kit.\n",
    "\n",
    "\"\"\"\n",
    "\n",
    "# Reference code blocks, can be provided by retriever, here we test with no reference \n",
    "ref_CBs = []\n",
    "\n",
    "# Initial the agent\n",
    "coder = create_coder_agent(\n",
    "        chat_model = chat_model, \n",
    "        code_model = code_model,\n",
    "        max_retry = 3,\n",
    "        )\n",
    "\n",
    "# Parse input \n",
    "coder_input = {\n",
    "    \"task_instruction\": task_instruction,\n",
    "    \"data_perception\": data_perception,\n",
    "    \"previous_codeblock\": \"\", # We don't have any prior process steps\n",
    "    \"ref_codeblocks\": ref_CBs,\n",
    "    \"env_profiles\": env_profiles,\n",
    "}\n",
    "\n",
    "coder_state = await coder.ainvoke(coder_input)\n",
    "\n"
   ]
  },
  {
   "cell_type": "code",
   "execution_count": null,
   "id": "131cf446",
   "metadata": {},
   "outputs": [
    {
     "name": "stdout",
     "output_type": "stream",
     "text": [
      "The coder geneerated the code within 2 iterations.\n",
      "Automatically fix error 1 times.\n",
      "Generated code:\n",
      "--------\n",
      "\n",
      "\n",
      "```python\n",
      "import scanpy as sc\n",
      "import matplotlib.pyplot as plt\n",
      "import seaborn as sns\n",
      "import numpy as np\n",
      "import scrublet as scr\n",
      "from pathlib import Path\n",
      "import sys\n",
      "\n",
      "# Configure paths with robust error handling\n",
      "try:\n",
      "    output_dir = Path(\"/home/xinqi/BIA-Ghostcoder/Test/Test/results\")\n",
      "    figure_dir = Path(\"/home/xinqi/BIA-Ghostcoder/Test/Test/figures\")\n",
      "    output_dir.mkdir(parents=True, exist_ok=True)\n",
      "    figure_dir.mkdir(parents=True, exist_ok=True)\n",
      "except PermissionError as e:\n",
      "    sys.exit(f\"Permission denied creating directories: {e}\")\n",
      "except Exception as e:\n",
      "    sys.exit(f\"Directory creation failed: {e}\")\n",
      "\n",
      "# Load data with validation\n",
      "try:\n",
      "    adata = sc.read_h5ad(\"pbmc3k_raw.h5ad\")\n",
      "except Exception as e:\n",
      "    sys.exit(f\"Data loading failed: {e}\")\n",
      "\n",
      "# Validate critical data structures\n",
      "if 'gene_ids' not in adata.var.columns:\n",
      "    sys.exit(\"Missing required gene identifiers in .var\")\n",
      "\n",
      "# Enhanced gene categorization using biological nomenclature\n",
      "try:\n",
      "    adata.var[\"mito\"] = adata.var_names.str.startswith(\"MT-\")\n",
      "    adata.var[\"ribo\"] = adata.var_names.str.startswith((\"RPS\", \"RPL\"))\n",
      "    adata.var[\"hb\"] = adata.var_names.str.startswith(\"HB\")  # Expanded hemoglobin detection\n",
      "except AttributeError as e:\n",
      "    sys.exit(f\"Gene annotation failed: {e}\")\n",
      "\n",
      "# Quantile-based QC metrics calculation\n",
      "try:\n",
      "    sc.pp.calculate_qc_metrics(\n",
      "        adata,\n",
      "        qc_vars=[\"mito\", \"ribo\", \"hb\"],\n",
      "        percent_top=None,\n",
      "        log1p=False,\n",
      "        inplace=True\n",
      "    )\n",
      "except KeyError as e:\n",
      "    sys.exit(f\"QC metric calculation failed: {e}\")\n",
      "\n",
      "# Validate computed metrics\n",
      "for metric in ['pct_counts_mito', 'pct_counts_ribo', 'pct_counts_hb']:\n",
      "    if metric not in adata.obs.columns:\n",
      "        sys.exit(f\"Missing required QC metric: {metric}\")\n",
      "\n",
      "# Robust IQR-based threshold calculator\n",
      "def calculate_thresholds(adata):\n",
      "    thresholds = {}\n",
      "    for metric in ['n_genes_by_counts', 'total_counts']:\n",
      "        q1 = adata.obs[metric].quantile(0.25)\n",
      "        q3 = adata.obs[metric].quantile(0.75)\n",
      "        iqr = q3 - q1\n",
      "        thresholds[metric] = (\n",
      "            max(q1 - 1.5*iqr, 0),  # Prevent negative thresholds\n",
      "            q3 + 1.5*iqr\n",
      "        )\n",
      "    return thresholds\n",
      "\n",
      "# Context-aware filtering thresholds\n",
      "mt_threshold = 20  # Based on PBMC biology\n",
      "if adata.obs[\"pct_counts_mito\"].median() > 15:\n",
      "    print(f\"Warning: Elevated mitochondrial content (median={adata.obs['pct_counts_mito'].median():.1f}%)\")\n",
      "\n",
      "# Generate comprehensive QC visualizations\n",
      "def create_qc_plots(metric_group, filename_suffix, title_context):\n",
      "    plt.figure(figsize=(len(metric_group)*5, 5))\n",
      "    for idx, metric in enumerate(metric_group, 1):\n",
      "        plt.subplot(1, len(metric_group), idx)\n",
      "        sns.violinplot(y=adata.obs[metric], cut=0)\n",
      "        formatted_title = metric.replace('_', ' ').title().replace('Pct', '%')\n",
      "        plt.title(f\"{formatted_title}\\n{title_context}\")\n",
      "    plt.tight_layout()\n",
      "    plt.savefig(figure_dir/f\"qc_violins_{filename_suffix}.png\", dpi=300, bbox_inches=\"tight\")\n",
      "    plt.close()\n",
      "\n",
      "# Create detailed visualization suite\n",
      "create_qc_plots(\n",
      "    [\"n_genes_by_counts\", \"total_counts\", \"pct_counts_mito\"],\n",
      "    \"core_metrics\",\n",
      "    \"PBMC Dataset Quality Control\"\n",
      ")\n",
      "\n",
      "create_qc_plots(\n",
      "    [\"pct_counts_ribo\", \"pct_counts_hb\"],\n",
      "    \"gene_category\",\n",
      "    \"PBMC Transcript Composition\"\n",
      ")\n",
      "\n",
      "# Biological relationship visualization\n",
      "plt.figure(figsize=(8,6))\n",
      "scatter = plt.scatter(\n",
      "    x=adata.obs[\"total_counts\"],\n",
      "    y=adata.obs[\"n_genes_by_counts\"],\n",
      "    c=adata.obs[\"pct_counts_mito\"],\n",
      "    cmap=\"inferno\",\n",
      "    s=12,\n",
      "    alpha=0.7,\n",
      "    vmax=20  # Optimized for biological relevance\n",
      ")\n",
      "plt.colorbar(label=\"Mitochondrial %\")\n",
      "plt.xlabel(\"Total Counts (log scale)\")\n",
      "plt.ylabel(\"Genes Detected (log scale)\")\n",
      "plt.xscale('log')\n",
      "plt.yscale('log')\n",
      "plt.title(\"PBMC Expression Complexity vs Mitochondrial Content\")\n",
      "plt.savefig(figure_dir/\"counts_genes_mito_scatter.png\", dpi=300, bbox_inches=\"tight\")\n",
      "plt.close()\n",
      "\n",
      "# Multi-dimensional filtering with IQR boundaries\n",
      "thresholds = calculate_thresholds(adata)\n",
      "qc_filter = (\n",
      "    (adata.obs[\"n_genes_by_counts\"] > thresholds['n_genes_by_counts'][0]) &\n",
      "    (adata.obs[\"n_genes_by_counts\"] < thresholds['n_genes_by_counts'][1]) &\n",
      "    (adata.obs[\"total_counts\"] > thresholds['total_counts'][0]) &\n",
      "    (adata.obs[\"total_counts\"] < thresholds['total_counts'][1]) &\n",
      "    (adata.obs[\"pct_counts_mito\"] < mt_threshold)\n",
      ")\n",
      "print(f\"\\nQC thresholds (IQR method):\\n{thresholds}\")\n",
      "print(f\"Cells retained: {qc_filter.sum()}/{len(adata)} ({qc_filter.mean():.1%})\")\n",
      "adata = adata[qc_filter].copy()\n",
      "\n",
      "# Count validation for doublet detection\n",
      "if not np.issubdtype(adata.X.dtype, np.integer):\n",
      "    sys.exit(\"Doublet detection requires raw count data\")\n",
      "\n",
      "try:\n",
      "    scrub = scr.Scrublet(adata.X)\n",
      "    adata.obs[\"doublet_score\"], adata.obs[\"predicted_doublet\"] = scrub.fit_transform()\n",
      "    print(f\"Doublet detection complete. Rate: {adata.obs['predicted_doublet'].mean():.1%}\")\n",
      "except Exception as e:\n",
      "    sys.exit(f\"Doublet detection failed: {e}\")\n",
      "\n",
      "# Final dataset curation\n",
      "adata = adata[~adata.obs[\"predicted_doublet\"], :].copy()\n",
      "\n",
      "# Save comprehensive outputs with validation\n",
      "try:\n",
      "    adata.write(output_dir/\"qc_filtered_adata.h5ad\")\n",
      "    adata.obs[['n_genes_by_counts', 'total_counts', \n",
      "              'pct_counts_mito', 'pct_counts_ribo', 'pct_counts_hb',\n",
      "              'doublet_score']].to_csv(output_dir/\"qc_metrics.csv\")\n",
      "except Exception as e:\n",
      "    sys.exit(f\"Output saving failed: {e}\")\n",
      "\n",
      "print(\"\\nQC workflow completed successfully\")\n",
      "print(f\"Final cell count: {adata.n_obs}, Gene count: {adata.n_vars}\")\n",
      "```\n",
      "--------\n",
      "\n",
      "With execution result as:Code executed with output:\n",
      "Traceback (most recent call last):\n",
      "  File \"/home/xinqi/BIA-Ghostcoder/Test/Test/tmp_code_0bfc23d4c501202ce6ea58be16cbad3f2f7620dab9922b1ac74ec449f4d2d473.py\", line 5, in <module>\n",
      "    import scrublet as scr\n",
      "ModuleNotFoundError: No module named 'scrublet'\n",
      "\n",
      "\n"
     ]
    }
   ],
   "source": [
    "print(f\"The coder geneerated the code within {coder_state['n_iter']} iterations.\")\n",
    "if \"n_error\" in coder_state.keys():\n",
    "    print(f\"Automatically fix error {coder_state['n_error']} times.\")\n",
    "else:\n",
    "    print(f\"Code executed without error.\")\n",
    "print(f\"Generated code:\\n--------\\n{coder_state['generated_codeblock'][-1]}\\n--------\\n\")\n",
    "print(f\"With execution result as:{coder_state['execution_outstr']}\")\n"
   ]
  },
  {
   "cell_type": "code",
   "execution_count": null,
   "id": "52bb7661",
   "metadata": {},
   "outputs": [],
   "source": []
  },
  {
   "cell_type": "markdown",
   "id": "c47e4b32",
   "metadata": {},
   "source": [
    "### Native env and Docker executor, test along"
   ]
  },
  {
   "cell_type": "code",
   "execution_count": null,
   "id": "109b4138",
   "metadata": {},
   "outputs": [],
   "source": [
    "from ghostcoder.graph import create_executor_agent\n",
    "from ghostcoder.docker import get_docker_status\n",
    "from ghostcoder.utils import get_native_env_perception\n",
    "\n",
    "#  Set workdir as current dir\n",
    "current_dir = Path.cwd()\n",
    "file_config.WORK_DIR = current_dir\n",
    "\n",
    "# Set up environment profiles\n",
    "env_profiles = {\n",
    "    \"task_dirs\":{\n",
    "        \"task_dir\": \"Test\",\n",
    "        \"data_dir\": \"data\",\n",
    "        \"figure_dir\": \"figures\",\n",
    "        \"output_dir\": \"results\",\n",
    "    },\n",
    "    \"docker status\": get_docker_status(),\n",
    "    \"native env languages\": get_native_env_perception(),\n",
    "}\n",
    "\n",
    "# Initial agent\n",
    "agent = create_executor_agent(\n",
    "        chat_model = chat_model, \n",
    "        code_model = code_model,\n",
    "        max_retry = 3,\n",
    "    )\n",
    "\n",
    "\n",
    "\n",
    "# Test executor with bash python and R\n",
    "test_bash_code =\"\"\"\n",
    "ls -al\n",
    "\"\"\"\n",
    "\n",
    "test_python_code = \"\"\"\n",
    "print(\"Hello World\")\n",
    "\"\"\"\n",
    "\n",
    "test_r_code =\"\"\"\n",
    "my_str <- \"Hello World\"\n",
    "print(my_str)\n",
    "\"\"\"\n",
    "\n",
    "for codeblock in [\n",
    "    test_bash_code, \n",
    "    test_python_code, \n",
    "    test_r_code\n",
    "    ]:\n",
    "    print(\"Test code executor with\\n\",codeblock)\n",
    "\n",
    "    exe_states = await agent.ainvoke(\n",
    "        {\n",
    "            \"generated_codeblock\":codeblock,\n",
    "            \"env_profiles\": env_profiles,\n",
    "        }\n",
    "    )\n",
    "\n",
    "    print(f\"Agent detected coding language as: {exe_states['language']}\\nUse docker: {exe_states['use_docker']}\")\n",
    "    if exe_states['use_docker']:\n",
    "        print(f\"With docker image{exe_states['docker_image']}\")\n",
    "    print(f\"Code execute output:\\n{exe_states['execution_results']}\\n--------\\n\\n\")"
   ]
  },
  {
   "cell_type": "code",
   "execution_count": null,
   "id": "d81c1cbc",
   "metadata": {},
   "outputs": [],
   "source": [
    "# Visualize the graph [optional], if failed try to run the cell again \n",
    "Image(agent.get_graph().draw_mermaid_png())"
   ]
  },
  {
   "cell_type": "code",
   "execution_count": null,
   "id": "2e0c470e",
   "metadata": {},
   "outputs": [],
   "source": []
  },
  {
   "cell_type": "markdown",
   "id": "7ddc5881",
   "metadata": {},
   "source": [
    "### Web crawler, test along"
   ]
  },
  {
   "cell_type": "code",
   "execution_count": null,
   "id": "037290a4",
   "metadata": {},
   "outputs": [],
   "source": [
    "from ghostcoder.graph import create_crawler_agent\n",
    "\n",
    "# Initial agent\n",
    "agent = create_crawler_agent(\n",
    "        chat_model = chat_model, \n",
    "        code_model = code_model,\n",
    "        max_retry = 3,\n",
    "    )\n",
    "\n",
    "# Input \n",
    "query_context = \"Pleas provide a pipeline guide for Predict Fusion Genes using STAR-Fusion\"\n",
    "\n",
    "# Invoke\n",
    "crawl_state = agent.invoke(\n",
    "    {\n",
    "        \"query_context\": query_context,\n",
    "    }\n",
    "    )\n",
    "\n",
    "# Print results\n",
    "print(\"--------\\nGenerated query for given context:\")\n",
    "for q in crawl_state['query_list']:\n",
    "    print(q)\n",
    "print(f\"Get total {len(crawl_state['useful_results'])} useful web search results\")\n",
    "print(\"Crawled and parsed web information as follow:\")\n",
    "print(crawl_state['summary'])\n"
   ]
  },
  {
   "cell_type": "code",
   "execution_count": null,
   "id": "f999f31f",
   "metadata": {},
   "outputs": [],
   "source": [
    "# Visualize the graph [optional], if failed try to run the cell again \n",
    "Image(agent.get_graph().draw_mermaid_png())"
   ]
  },
  {
   "cell_type": "code",
   "execution_count": null,
   "id": "df65fd53",
   "metadata": {},
   "outputs": [],
   "source": []
  },
  {
   "cell_type": "code",
   "execution_count": null,
   "id": "72e4bdb2",
   "metadata": {},
   "outputs": [],
   "source": [
    "os.file"
   ]
  },
  {
   "cell_type": "code",
   "execution_count": null,
   "id": "8590b842",
   "metadata": {},
   "outputs": [],
   "source": [
    "for fn in os.listdir(\"../RefcodeDB\"):\n",
    "    print(fn)"
   ]
  },
  {
   "cell_type": "code",
   "execution_count": null,
   "id": "902fa04b",
   "metadata": {},
   "outputs": [],
   "source": []
  },
  {
   "cell_type": "markdown",
   "id": "572d7952",
   "metadata": {},
   "source": [
    "### Test retriever agent"
   ]
  },
  {
   "cell_type": "code",
   "execution_count": null,
   "id": "52991ef0",
   "metadata": {},
   "outputs": [],
   "source": [
    "from ghostcoder.graph import create_retriever_agent\n",
    "\n",
    "# Initial agent\n",
    "agent = create_retriever_agent(\n",
    "        chat_model = chat_model, \n",
    "        code_model = code_model,\n",
    "        max_retry = 3,\n",
    "    )\n",
    "\n",
    "# Input \n",
    "task_description = \"Single cell RNAseq quality control\"\n",
    "\n",
    "# Invoke\n",
    "retriever_state = agent.invoke(\n",
    "    {\n",
    "        \"task_description\": task_description,\n",
    "    }\n",
    "    )\n",
    "# Print reference code blocks\n",
    "i = 1\n",
    "for cb in retriever_state['ref_codeblocks']:\n",
    "    print(f\"Reference code block #{i}\")\n",
    "    print(cb)\n",
    "    print(\"\\n=========================\\n\\n\"\n",
    "    i+=1"
   ]
  },
  {
   "cell_type": "code",
   "execution_count": null,
   "id": "25808680",
   "metadata": {},
   "outputs": [],
   "source": [
    "!ls ../"
   ]
  },
  {
   "cell_type": "code",
   "execution_count": null,
   "id": "020dd238",
   "metadata": {},
   "outputs": [],
   "source": [
    "import yaml\n",
    "from ghostcoder.config import *#load_yaml_config\n",
    "load_yaml_config(\"../config.yaml\") \n",
    "initial_LLMs()"
   ]
  },
  {
   "cell_type": "code",
   "execution_count": null,
   "id": "ddaa6444",
   "metadata": {},
   "outputs": [],
   "source": [
    "llm_config.MODELS['chat_model']"
   ]
  },
  {
   "cell_type": "code",
   "execution_count": null,
   "id": "e7735b4e",
   "metadata": {},
   "outputs": [],
   "source": [
    "import scanpy as sc\n",
    "adata = sc.read_h5ad('data/ab9c09b9-2498-534b-b4b9-be275e984822/human_cd34_bm_rep1.h5ad')"
   ]
  },
  {
   "cell_type": "code",
   "execution_count": null,
   "id": "b25af9e1",
   "metadata": {},
   "outputs": [],
   "source": [
    "adata"
   ]
  },
  {
   "cell_type": "code",
   "execution_count": null,
   "id": "a7329051",
   "metadata": {},
   "outputs": [],
   "source": [
    "adata"
   ]
  },
  {
   "cell_type": "code",
   "execution_count": null,
   "id": "e17420dd",
   "metadata": {},
   "outputs": [],
   "source": [
    "adata.var.drop(columns=['feature_is_filtered', 'feature_reference', 'feature_biotype', 'feature_length'],inplace=True)"
   ]
  },
  {
   "cell_type": "code",
   "execution_count": null,
   "id": "f06581a6",
   "metadata": {},
   "outputs": [],
   "source": [
    "adata.write_h5ad('data/Michael_2023_bone_marrow_RAW')"
   ]
  },
  {
   "cell_type": "code",
   "execution_count": null,
   "id": "ff55df2d",
   "metadata": {},
   "outputs": [],
   "source": [
    "j = 0\n",
    "for i in range(14651):\n",
    "    if adata.X[0,i] > 0:\n",
    "        print(adata.X[0,i])\n",
    "        j+=1 \n",
    "    if j == 400:\n",
    "        break"
   ]
  },
  {
   "cell_type": "code",
   "execution_count": null,
   "id": "93ac2e0e",
   "metadata": {},
   "outputs": [],
   "source": [
    "adata.raw()"
   ]
  },
  {
   "cell_type": "code",
   "execution_count": null,
   "id": "d1d4f7da",
   "metadata": {},
   "outputs": [],
   "source": []
  }
 ],
 "metadata": {
  "kernelspec": {
   "display_name": "BIA-dev",
   "language": "python",
   "name": "python3"
  },
  "language_info": {
   "codemirror_mode": {
    "name": "ipython",
    "version": 3
   },
   "file_extension": ".py",
   "mimetype": "text/x-python",
   "name": "python",
   "nbconvert_exporter": "python",
   "pygments_lexer": "ipython3",
   "version": "3.12.9"
  }
 },
 "nbformat": 4,
 "nbformat_minor": 5
}
