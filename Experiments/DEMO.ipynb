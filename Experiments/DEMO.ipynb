{
 "cells": [
  {
   "cell_type": "markdown",
   "id": "dfb0124a",
   "metadata": {},
   "source": [
    "# 🚀 BIA-Ghostcoder 快速启动演示\n",
    "\n",
    "> **智能生物信息学分析代理快速体验**\n",
    "\n",
    "## 📋 使用说明\n",
    "\n",
    "1. **配置 API 密钥**：在下面的 Cell 中填入你的 OpenAI API Key 和 Tavily API Key\n",
    "2. **顺序执行**：按顺序运行所有 cell（或使用 \"Run All\"）\n",
    "3. **查看结果**：AI 将自动生成并执行单细胞质量控制分析代码\n",
    "\n",
    "## 🎯 本演示功能\n",
    "\n",
    "- 📊 **自动数据加载**：使用 PBMC 3k 示例数据集\n",
    "- 🤖 **智能代码生成**：AI 根据任务描述生成专业的分析代码\n",
    "- 🔄 **自动执行**：在安全的 Docker 环境中执行代码\n",
    "- 📈 **结果展示**：显示生成的代码和分析结果\n",
    "\n",
    "## ⚙️ 环境要求\n",
    "\n",
    "- Python 3.12+\n",
    "- Docker（用于代码执行）\n",
    "- 有效的 OpenAI API 密钥\n",
    "\n",
    "---\n",
    "\n",
    "**🚨 重要提示**：请确保在第2个 cell 中正确配置你的 API 密钥！\n"
   ]
  },
  {
   "cell_type": "code",
   "execution_count": null,
   "id": "f149477a",
   "metadata": {},
   "outputs": [],
   "source": [
    "import os \n",
    "import scanpy as sc\n",
    "\n",
    "from langchain_openai import ChatOpenAI\n",
    "\n",
    "from ghostcoder import GhostCoder\n",
    "from ghostcoder.utils import *\n",
    "from ghostcoder.graph import create_ghostcoder_agent, create_coder_agent, create_crawler_agent, create_rag_agent"
   ]
  },
  {
   "cell_type": "code",
   "execution_count": null,
   "id": "e0134c90",
   "metadata": {},
   "outputs": [],
   "source": [
    "# 🤖 配置 LLM 模型\n",
    "# 请填入你的 API 配置信息\n",
    "openai_api_key = \"your_openai_api_key_here\"        # 👈 必填：OpenAI API Key\n",
    "openai_api_base = \"https://api.openai.com/v1\"      # 👈 API 基础 URL\n",
    "openai_chat_model = \"gpt-4o\"                       # 👈 聊天模型\n",
    "openai_code_model = \"gpt-4o\"                       # 👈 代码生成模型\n",
    "\n",
    "def call_chatllm_openai(api_key, api_base, model_name):\n",
    "    \"\"\"创建 OpenAI 兼容的 LLM 实例\"\"\"\n",
    "    llm = ChatOpenAI(\n",
    "        openai_api_key = api_key,\n",
    "        openai_api_base=api_base,\n",
    "        model = model_name,\n",
    "        temperature=0,\n",
    "        max_retries=3)\n",
    "    return llm\n",
    "\n",
    "# 初始化模型\n",
    "chat_model = call_chatllm_openai(openai_api_key, openai_api_base, openai_chat_model)\n",
    "code_model = call_chatllm_openai(openai_api_key, openai_api_base, openai_code_model)\n",
    "\n",
    "print(\"✅ LLM 模型配置完成\")"
   ]
  },
  {
   "cell_type": "code",
   "execution_count": null,
   "id": "341b57c0",
   "metadata": {},
   "outputs": [],
   "source": [
    "# 🌐 配置 Tavily 搜索（可选）\n",
    "# Tavily 用于网络搜索获取最新的生物信息学方法\n",
    "tavily_api = \"your_tavily_api_key_here\"  # 👈 可选：Tavily API Key\n",
    "os.environ[\"TAVILY_API_KEY\"] = tavily_api\n",
    "\n",
    "print(\"✅ Tavily 配置完成\" if tavily_api != \"your_tavily_api_key_here\" else \"⚠️  Tavily 未配置（可选）\")"
   ]
  },
  {
   "cell_type": "code",
   "execution_count": null,
   "id": "836d652d",
   "metadata": {},
   "outputs": [],
   "source": [
    "# 📊 加载示例数据\n",
    "# 使用 scanpy 内置的 PBMC 3k 数据集（约 2700 个细胞）\n",
    "print(\"📥 正在下载 PBMC 3k 示例数据...\")\n",
    "adata = sc.datasets.pbmc3k()\n",
    "print(f\"✅ 数据加载完成：{adata.n_obs} 个细胞，{adata.n_vars} 个基因\")"
   ]
  },
  {
   "cell_type": "code",
   "execution_count": null,
   "id": "0a4c5871",
   "metadata": {},
   "outputs": [],
   "source": [
    "# 🤖 创建 BIA-Ghostcoder 代理\n",
    "print(\"🔧 正在初始化 BIA-Ghostcoder 代理...\")\n",
    "\n",
    "agent = GhostCoder(\n",
    "    chat_model = chat_model, \n",
    "    code_model = code_model,\n",
    "    max_retry = 3,\n",
    "    name = \"demo_agent\",\n",
    "    debug = False\n",
    "    )\n",
    "\n",
    "print(\"✅ 代理创建完成！\")\n",
    "\n",
    "# 🎨 可视化工作流图（可选）\n",
    "print(\"📊 绘制代理工作流图...\")\n",
    "try:\n",
    "    agent.draw_graph()\n",
    "    print(\"✅ 工作流图生成完成\")\n",
    "except Exception as e:\n",
    "    print(f\"⚠️  工作流图生成失败: {e}\")\n",
    "    print(\"💡 这不影响代理的正常运行\")"
   ]
  },
  {
   "cell_type": "code",
   "execution_count": null,
   "id": "8a915b72",
   "metadata": {},
   "outputs": [],
   "source": [
    "# Test agent\n",
    "task = \"Quality control of the data. wherein the genes are targeted for labeling, the mitochondrial genes (e.g., beginning with “MT-”), the ribosomal genes (e.g., beginning with “RPS” or “RPL”), and the hemoglobin genes (using regular expression matching, e.g., ^HB[^P]); next, common quality control metrics for each cell, including total counts, number of genes detected, and the proportion of total counts represented by a specific group of genes (e.g., mitochondrial genes), were calculated using Scanpy's calculate_qc_metrics() function, and a The log1p transformation is applied to these metrics to optimize the data distribution. Subsequently, the QC metrics of each cell are visualized by violin plots and scatter plots to assess the overall quality of the data. Finally, a threshold is set based on the visualization results to exclude the cells with fewer than 100 genes and genes occurring in fewer than 3 cells to ensure the quality of the data for downstream analyses.\""
   ]
  },
  {
   "cell_type": "code",
   "execution_count": null,
   "id": "6c3cd5fc",
   "metadata": {},
   "outputs": [],
   "source": [
    "# 🚀 执行 BIA-Ghostcoder 分析\n",
    "print(\"🔬 开始执行智能生物信息学分析...\")\n",
    "print(\"=\" * 50)\n",
    "\n",
    "try:\n",
    "    # 包装输入数据\n",
    "    input_wrap = create_input_wrapper([adata])\n",
    "    \n",
    "    # 执行分析任务\n",
    "    generated_code, execution_result = agent.Run(\n",
    "        task=task, \n",
    "        input_wrap=input_wrap,\n",
    "        task_id=\"demo_qc_analysis\",\n",
    "        use_reg=True  # 启用 RAG 检索\n",
    "    )\n",
    "    \n",
    "    print(\"\\n🎉 分析完成！\")\n",
    "    print(\"=\" * 50)\n",
    "    \n",
    "    print(\"\\n📝 生成的代码：\")\n",
    "    print(\"-\" * 30)\n",
    "    print(generated_code)\n",
    "    \n",
    "    print(\"\\n📊 执行结果：\")\n",
    "    print(\"-\" * 30)\n",
    "    print(execution_result)\n",
    "    \n",
    "except Exception as e:\n",
    "    print(f\"❌ 执行出错：{str(e)}\")\n",
    "    print(\"💡 请检查配置和网络连接\")"
   ]
  }
 ],
 "metadata": {
  "kernelspec": {
   "display_name": "BIA-dev",
   "language": "python",
   "name": "python3"
  },
  "language_info": {
   "codemirror_mode": {
    "name": "ipython",
    "version": 3
   },
   "file_extension": ".py",
   "mimetype": "text/x-python",
   "name": "python",
   "nbconvert_exporter": "python",
   "pygments_lexer": "ipython3",
   "version": "3.11.8"
  }
 },
 "nbformat": 4,
 "nbformat_minor": 5
}
